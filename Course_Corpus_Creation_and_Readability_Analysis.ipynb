{
  "nbformat": 4,
  "nbformat_minor": 0,
  "metadata": {
    "colab": {
      "provenance": []
    },
    "kernelspec": {
      "name": "python3",
      "display_name": "Python 3"
    },
    "language_info": {
      "name": "python"
    }
  },
  "cells": [
    {
      "cell_type": "code",
      "source": [
        "# Install Wikipedia-API package\n",
        "!pip install Wikipedia-API"
      ],
      "metadata": {
        "id": "PCddqVUFD8Sa",
        "colab": {
          "base_uri": "https://localhost:8080/"
        },
        "outputId": "5d39cb82-87f8-4a62-8762-335a71b7b758"
      },
      "execution_count": null,
      "outputs": [
        {
          "output_type": "stream",
          "name": "stdout",
          "text": [
            "Requirement already satisfied: Wikipedia-API in /usr/local/lib/python3.10/dist-packages (0.6.0)\n",
            "Requirement already satisfied: requests in /usr/local/lib/python3.10/dist-packages (from Wikipedia-API) (2.31.0)\n",
            "Requirement already satisfied: charset-normalizer<4,>=2 in /usr/local/lib/python3.10/dist-packages (from requests->Wikipedia-API) (3.3.2)\n",
            "Requirement already satisfied: idna<4,>=2.5 in /usr/local/lib/python3.10/dist-packages (from requests->Wikipedia-API) (3.6)\n",
            "Requirement already satisfied: urllib3<3,>=1.21.1 in /usr/local/lib/python3.10/dist-packages (from requests->Wikipedia-API) (2.0.7)\n",
            "Requirement already satisfied: certifi>=2017.4.17 in /usr/local/lib/python3.10/dist-packages (from requests->Wikipedia-API) (2023.11.17)\n"
          ]
        }
      ]
    },
    {
      "cell_type": "code",
      "source": [
        "# Install textstat package\n",
        "!pip install textstat"
      ],
      "metadata": {
        "id": "FH7o4so7StAo",
        "colab": {
          "base_uri": "https://localhost:8080/"
        },
        "outputId": "b3bbf527-38b5-44d2-afe8-1f72bc2f09ed"
      },
      "execution_count": null,
      "outputs": [
        {
          "output_type": "stream",
          "name": "stdout",
          "text": [
            "Requirement already satisfied: textstat in /usr/local/lib/python3.10/dist-packages (0.7.3)\n",
            "Requirement already satisfied: pyphen in /usr/local/lib/python3.10/dist-packages (from textstat) (0.14.0)\n"
          ]
        }
      ]
    },
    {
      "cell_type": "code",
      "source": [
        "# Required Libraries\n",
        "import wikipediaapi\n",
        "import re\n",
        "import nltk\n",
        "from nltk.stem import WordNetLemmatizer\n",
        "import numpy as np\n",
        "import pandas as pd\n",
        "import textstat\n",
        "from nltk.tag import pos_tag\n",
        "import seaborn as sns\n",
        "import matplotlib.pyplot as plt\n",
        "from nltk.stem import WordNetLemmatizer\n",
        "from nltk.stem import PorterStemmer\n",
        "from sklearn.feature_extraction.text import TfidfVectorizer\n",
        "from sklearn.model_selection import train_test_split\n",
        "from sklearn.linear_model import LogisticRegression\n",
        "from sklearn.metrics import accuracy_score, precision_score, recall_score, f1_score, confusion_matrix, classification_report"
      ],
      "metadata": {
        "id": "SqgJ_D7iffZS"
      },
      "execution_count": null,
      "outputs": []
    },
    {
      "cell_type": "code",
      "source": [
        "nltk.download(\"wordnet\") # lexical database of English\n",
        "\n",
        "nltk.download(\"omw-1.4\") # Open Multilingual WordNet (OMW) for multiple languages\n",
        "\n",
        "nltk.download('stopwords') # Stopwords for various languages used in text preprocessing tasks\n",
        "\n",
        "nltk.download('punkt') # Punkt tokenizer models for tokenization tasks\n",
        "\n",
        "nltk.download('averaged_perceptron_tagger') # averaged_perceptron_tagger for part-of-speech tagging\n"
      ],
      "metadata": {
        "id": "ofoOMg5LrzrN",
        "colab": {
          "base_uri": "https://localhost:8080/"
        },
        "outputId": "b3c734e4-732f-4c11-c871-495efa52aa11"
      },
      "execution_count": null,
      "outputs": [
        {
          "output_type": "stream",
          "name": "stderr",
          "text": [
            "[nltk_data] Downloading package wordnet to /root/nltk_data...\n",
            "[nltk_data]   Package wordnet is already up-to-date!\n",
            "[nltk_data] Downloading package omw-1.4 to /root/nltk_data...\n",
            "[nltk_data]   Package omw-1.4 is already up-to-date!\n",
            "[nltk_data] Downloading package stopwords to /root/nltk_data...\n",
            "[nltk_data]   Package stopwords is already up-to-date!\n",
            "[nltk_data] Downloading package punkt to /root/nltk_data...\n",
            "[nltk_data]   Package punkt is already up-to-date!\n",
            "[nltk_data] Downloading package averaged_perceptron_tagger to\n",
            "[nltk_data]     /root/nltk_data...\n",
            "[nltk_data]   Package averaged_perceptron_tagger is already up-to-\n",
            "[nltk_data]       date!\n"
          ]
        },
        {
          "output_type": "execute_result",
          "data": {
            "text/plain": [
              "True"
            ]
          },
          "metadata": {},
          "execution_count": 293
        }
      ]
    },
    {
      "cell_type": "code",
      "source": [
        "# Initialize instances of WordNetLemmatizer and PorterStemmer\n",
        "lemmatizer = WordNetLemmatizer()\n",
        "stemmer = PorterStemmer()"
      ],
      "metadata": {
        "id": "KEKsIE8FFdbt"
      },
      "execution_count": null,
      "outputs": []
    },
    {
      "cell_type": "markdown",
      "source": [
        "# **Data Collection and Scraping**"
      ],
      "metadata": {
        "id": "LzbuxAK8eRXG"
      }
    },
    {
      "cell_type": "code",
      "execution_count": null,
      "metadata": {
        "id": "BMqBb1jhlTFy"
      },
      "outputs": [],
      "source": [
        "# Initializing a Wikipedia object with specific configurations\n",
        "wiki = wikipediaapi.Wikipedia(\n",
        "    user_agent='MyProjectName (merlin@example.com)',\n",
        "        language='en',\n",
        "        extract_format=wikipediaapi.ExtractFormat.WIKI\n",
        ")"
      ]
    },
    {
      "cell_type": "code",
      "source": [
        "# List of topics related to natural language processing (NLP)\n",
        "topics = [\n",
        "    \"Tokenization\",\n",
        "    \"Named-entity recognition\",\n",
        "    \"Sentiment analysis\",\n",
        "    \"Entity linking\",\n",
        "    \"Automatic summarization\",\n",
        "    \"Relationship extraction\",\n",
        "    \"Speech synthesis\",\n",
        "    \"Part-of-speech tagging\",\n",
        "    \"Multi-task learning\",\n",
        "    \"Zero-shot learning\",\n",
        "    \"Transfer learning\",\n",
        "    \"Adversarial machine learning\",\n",
        "    \"Knowledge graph\",\n",
        "    \"Data preprocessing\",\n",
        "    \"Data augmentation\",\n",
        "    \"Hyperparameter optimization\",\n",
        "    \"Interpretability\",\n",
        "    \"Chatbot\",\n",
        "    \"Explainable artificial intelligence\",\n",
        "    \"Robustness\",\n",
        "    \"Differentiable neural computer\",\n",
        "    \"Neural machine translation\",\n",
        "    \"Attention (machine learning)\",\n",
        "    \"Dialogue system\",\n",
        "    \"Domain adaptation\",\n",
        "    \"Multimodal sentiment analysis\",\n",
        "    \"Crossmodal\",\n",
        "    \"Spoken language\",\n",
        "    \"Word-sense disambiguation\",\n",
        "    \"Word embedding\",\n",
        "    \"Latent space\",\n",
        "    \"Coreference\",\n",
        "    \"Zero-shot learning\",\n",
        "    \"Hyperparameter optimization\",\n",
        "    \"Neural architecture search\",\n",
        "    \"Active learning (machine learning)\",\n",
        "    \"Weak supervision\",\n",
        "    \"Unsupervised learning\",\n",
        "    \"Neural Network\",\n",
        "    \"Feedforward neural network\",\n",
        "    \"Backpropagation\",\n",
        "    \"Activation function\",\n",
        "    \"Gradient Descent\",\n",
        "    \"Stochastic Gradient Descent\",\n",
        "    \"Convolutional neural network\",\n",
        "    \"Recurrent neural network\",\n",
        "    \"Long short-term memory\",\n",
        "    \"Gated recurrent unit\",\n",
        "    \"Bidirectional recurrent neural networks\",\n",
        "    \"Attention (machine learning)\",\n",
        "    \"Transformer (machine learning model)\",\n",
        "    \"Transfer learning\",\n",
        "    \"Fine-tuning (deep learning)\",\n",
        "    \"Autoencoders\",\n",
        "    \"Variational autoencoder\",\n",
        "    \"Generative model\",\n",
        "    \"Generative adversarial network\",\n",
        "    \"StyleGAN\",\n",
        "    \"Deep reinforcement learning\",\n",
        "    \"Q-learning\",\n",
        "    \"Unsupervised learning\",\n",
        "    \"Explainable artificial intelligence\",\n",
        "    \"Ethics of artificial intelligence\",\n",
        "    \"Capsule neural network\",\n",
        "    \"Neuromorphic engineering\",\n",
        "    \"Hyperparameter optimization\",\n",
        "    \"Regularization (mathematics)\",\n",
        "    \"Federated learning\",\n",
        "    \"Fairness (machine learning)\",\n",
        "    \"Meta-learning (computer science)\",\n",
        "    \"Argument mining\",\n",
        "    \"Spellchecking\",\n",
        "    \"Language modeling\",\n",
        "    \"Coreference\",\n",
        "    \"Word embedding\",\n",
        "    \"Sentence embedding\",\n",
        "    \"Attention (machine learning)\",\n",
        "    \"Hidden Markov model\",\n",
        "    \"Transformer (machine learning model)\",\n",
        "    \"Recurrent neural network\",\n",
        "    \"Long short-term memory\",\n",
        "    \"Gated recurrent unit\",\n",
        "    \"Bidirectional recurrent neural networks\",\n",
        "    \"Seq2seq\",\n",
        "    \"Autoencoder\",\n",
        "    \"Word2vec\",\n",
        "    \"GloVe\",\n",
        "    \"Gemini (language model)\",\n",
        "    \"BERT (language model)\",\n",
        "    \"Generative pre-trained transformer\",\n",
        "    \"Roberta\",\n",
        "    \"Albert\",\n",
        "    \"ELMo\",\n",
        "    \"Conditional random field\",\n",
        "    \"Reinforcement learning\",\n",
        "    \"Generative model\",\n",
        "    \"Multi-document summarization\",\n",
        "    \"Neuro-symbolic AI\",\n",
        "    \"Distributional semantics\",\n",
        "    \"Temporal information retrieval\",\n",
        "    \"Prompt engineering\",\n",
        "    \"tf-idf\",\n",
        "    \"Part-of-speech tagging\",\n",
        "    \"Word sense\",\n",
        "    \"WordNet\",\n",
        "    \"Connotation\"\n",
        "]\n"
      ],
      "metadata": {
        "id": "gN10byiMg9rM"
      },
      "execution_count": null,
      "outputs": []
    },
    {
      "cell_type": "code",
      "source": [
        "# Number of elements in the list\n",
        "len(topics)"
      ],
      "metadata": {
        "colab": {
          "base_uri": "https://localhost:8080/"
        },
        "id": "yL2WKRrnnLvt",
        "outputId": "0e86cfb9-ab7f-4605-fd29-216ad3631692"
      },
      "execution_count": null,
      "outputs": [
        {
          "output_type": "execute_result",
          "data": {
            "text/plain": [
              "106"
            ]
          },
          "metadata": {},
          "execution_count": 297
        }
      ]
    },
    {
      "cell_type": "code",
      "source": [
        "for topic in topics:\n",
        "  page= wiki.page(topic)\n",
        "\n",
        "  # Check if the page does not exist\n",
        "  if not page.exists():\n",
        "\n",
        "    # Print the title of the non-existent page\n",
        "    print(page.title)"
      ],
      "metadata": {
        "id": "_jtELQ_Y5aTq"
      },
      "execution_count": null,
      "outputs": []
    },
    {
      "cell_type": "code",
      "source": [
        "# Initialize DataFrames\n",
        "corpus_df = pd.DataFrame(columns=[\"topic\", \"content\", \"URL\", \"type\", \"vocabulary_size\", \"word_count\"])\n",
        "tokens_df = pd.DataFrame(columns=[\"topic\", \"stems\", \"lemmas\"])\n",
        "vocabulary_df = pd.DataFrame(columns=[\"topic\", \"unique_words\"])\n",
        "readability_df = pd.DataFrame(columns=[\"topic\", \"content\",\"cleaned_content\" ,\"readability\"])\n",
        "pos_df = pd.DataFrame(columns=[\"topic\", \"data_with_pos_tags\"])"
      ],
      "metadata": {
        "id": "dsOYZWLyruDy"
      },
      "execution_count": null,
      "outputs": []
    },
    {
      "cell_type": "code",
      "source": [
        "# Fetch the Wikipedia page content for \"Regularization (mathematics)\"\n",
        "page_py= wiki.page(\"Regularization (mathematics)\")\n",
        "print(page_py)"
      ],
      "metadata": {
        "colab": {
          "base_uri": "https://localhost:8080/"
        },
        "id": "odVVs5LJnuXk",
        "outputId": "33da486d-3a0f-4ce6-da55-067d4539f700"
      },
      "execution_count": null,
      "outputs": [
        {
          "output_type": "stream",
          "name": "stdout",
          "text": [
            "Regularization (mathematics) (id: ??, ns: 0)\n"
          ]
        }
      ]
    },
    {
      "cell_type": "code",
      "source": [
        "type(page_py.title)"
      ],
      "metadata": {
        "colab": {
          "base_uri": "https://localhost:8080/"
        },
        "id": "ZH6RsF3Y-ZA2",
        "outputId": "91409f9e-61a9-44b0-ab96-20fa96b2331d"
      },
      "execution_count": null,
      "outputs": [
        {
          "output_type": "execute_result",
          "data": {
            "text/plain": [
              "str"
            ]
          },
          "metadata": {},
          "execution_count": 301
        }
      ]
    },
    {
      "cell_type": "markdown",
      "source": [
        "**Data Cleaning and Preprocessing**"
      ],
      "metadata": {
        "id": "-eHkBUhB9x7B"
      }
    },
    {
      "cell_type": "code",
      "source": [
        "from nltk.tokenize import sent_tokenize, word_tokenize\n",
        "from nltk.corpus import stopwords\n",
        "\n",
        "def clean_wiki_text(text):\n",
        "\n",
        "  # Remove HTML tags\n",
        "  text = re.sub(r\"<[^>]*>\", \"\", text)\n",
        "\n",
        "  # Remove references and citations\n",
        "  text = re.sub(r\"\\[[^\\]]*\\]\", \"\", text)\n",
        "\n",
        "  text = re.sub('https?://\\S+|www\\.\\S+', '', text)\n",
        "\n",
        "  # Remove special characters and punctuation\n",
        "  text = re.sub(r\"[^a-zA-Z0-9\\s]\", \" \", text)\n",
        "\n",
        "  # Lowercase text\n",
        "  text = text.lower()\n",
        "\n",
        "  # Remove stop words (optional)\n",
        "  stopWords = set(stopwords.words('english'))\n",
        "  words = word_tokenize(text)\n",
        "  text = ' '.join([w for w in words if w not in stopWords])\n",
        "\n",
        "  # Normalize whitespace\n",
        "  text = re.sub(r\"\\s+\", \" \", text)\n",
        "\n",
        "  # Trim leading and trailing spaces\n",
        "  text = text.strip()\n",
        "  # Lemmatization\n",
        "  text = \" \".join([lemmatizer.lemmatize(word) for word in text.split()])\n",
        "\n",
        "  return text"
      ],
      "metadata": {
        "id": "j3Bdg5mX-gK1"
      },
      "execution_count": null,
      "outputs": []
    },
    {
      "cell_type": "markdown",
      "source": [
        "# **Corpus Arrangement**\n",
        "\n",
        "\n",
        "*   corpus.csv\n",
        "*   tokens.csv\n",
        "*   vocabulary.csv\n",
        "*   readability.csv\n",
        "*   pos.csv\n",
        "\n"
      ],
      "metadata": {
        "id": "ARFoCek5edTF"
      }
    },
    {
      "cell_type": "markdown",
      "source": [
        "**corpus.csv Creation**"
      ],
      "metadata": {
        "id": "Jb70PCnp8W6c"
      }
    },
    {
      "cell_type": "code",
      "source": [
        "def compute_vocabulary_size(text):\n",
        "    words = word_tokenize(text)\n",
        "    return len(set(words))\n",
        "\n",
        "for topic in topics:\n",
        "\n",
        "    # Get the Wikipedia page for the current topic\n",
        "    page_py = wiki.page(topic)\n",
        "\n",
        "    if page_py.exists():\n",
        "        cleaned_content = clean_wiki_text(page_py.text)\n",
        "\n",
        "        # Check if page_py.title is not empty and not None\n",
        "        if page_py.title and page_py.title.strip():\n",
        "            vocab_size = compute_vocabulary_size(cleaned_content)\n",
        "            word_count = len(word_tokenize(cleaned_content))\n",
        "\n",
        "            corpus_df = corpus_df.append({\n",
        "                \"topic\": page_py.title,\n",
        "                \"content\": cleaned_content,\n",
        "                \"URL\": page_py.fullurl,\n",
        "                \"type\": \"Natural Language Processing\",\n",
        "                \"vocabulary_size\": vocab_size,\n",
        "                \"word_count\": word_count\n",
        "            }, ignore_index=True)\n",
        "        else:\n",
        "            # Handle the case where title is empty or not assigned\n",
        "            print(f\"Skipping empty or undefined title for topic: {topic}\")\n",
        "    else:\n",
        "        # Handle the case where the page does not exist\n",
        "        print(f\"Page does not exist for topic: {topic}\")"
      ],
      "metadata": {
        "id": "8IJ8jc3fg9pX",
        "colab": {
          "base_uri": "https://localhost:8080/"
        },
        "outputId": "51dadb70-310b-4fa2-8fda-dba6d443d855"
      },
      "execution_count": null,
      "outputs": [
        {
          "output_type": "stream",
          "name": "stderr",
          "text": [
            "<ipython-input-303-1e4dd9d74308>:18: FutureWarning: The frame.append method is deprecated and will be removed from pandas in a future version. Use pandas.concat instead.\n",
            "  corpus_df = corpus_df.append({\n",
            "<ipython-input-303-1e4dd9d74308>:18: FutureWarning: The frame.append method is deprecated and will be removed from pandas in a future version. Use pandas.concat instead.\n",
            "  corpus_df = corpus_df.append({\n",
            "<ipython-input-303-1e4dd9d74308>:18: FutureWarning: The frame.append method is deprecated and will be removed from pandas in a future version. Use pandas.concat instead.\n",
            "  corpus_df = corpus_df.append({\n",
            "<ipython-input-303-1e4dd9d74308>:18: FutureWarning: The frame.append method is deprecated and will be removed from pandas in a future version. Use pandas.concat instead.\n",
            "  corpus_df = corpus_df.append({\n",
            "<ipython-input-303-1e4dd9d74308>:18: FutureWarning: The frame.append method is deprecated and will be removed from pandas in a future version. Use pandas.concat instead.\n",
            "  corpus_df = corpus_df.append({\n",
            "<ipython-input-303-1e4dd9d74308>:18: FutureWarning: The frame.append method is deprecated and will be removed from pandas in a future version. Use pandas.concat instead.\n",
            "  corpus_df = corpus_df.append({\n",
            "<ipython-input-303-1e4dd9d74308>:18: FutureWarning: The frame.append method is deprecated and will be removed from pandas in a future version. Use pandas.concat instead.\n",
            "  corpus_df = corpus_df.append({\n",
            "<ipython-input-303-1e4dd9d74308>:18: FutureWarning: The frame.append method is deprecated and will be removed from pandas in a future version. Use pandas.concat instead.\n",
            "  corpus_df = corpus_df.append({\n",
            "<ipython-input-303-1e4dd9d74308>:18: FutureWarning: The frame.append method is deprecated and will be removed from pandas in a future version. Use pandas.concat instead.\n",
            "  corpus_df = corpus_df.append({\n",
            "<ipython-input-303-1e4dd9d74308>:18: FutureWarning: The frame.append method is deprecated and will be removed from pandas in a future version. Use pandas.concat instead.\n",
            "  corpus_df = corpus_df.append({\n",
            "<ipython-input-303-1e4dd9d74308>:18: FutureWarning: The frame.append method is deprecated and will be removed from pandas in a future version. Use pandas.concat instead.\n",
            "  corpus_df = corpus_df.append({\n",
            "<ipython-input-303-1e4dd9d74308>:18: FutureWarning: The frame.append method is deprecated and will be removed from pandas in a future version. Use pandas.concat instead.\n",
            "  corpus_df = corpus_df.append({\n",
            "<ipython-input-303-1e4dd9d74308>:18: FutureWarning: The frame.append method is deprecated and will be removed from pandas in a future version. Use pandas.concat instead.\n",
            "  corpus_df = corpus_df.append({\n",
            "<ipython-input-303-1e4dd9d74308>:18: FutureWarning: The frame.append method is deprecated and will be removed from pandas in a future version. Use pandas.concat instead.\n",
            "  corpus_df = corpus_df.append({\n",
            "<ipython-input-303-1e4dd9d74308>:18: FutureWarning: The frame.append method is deprecated and will be removed from pandas in a future version. Use pandas.concat instead.\n",
            "  corpus_df = corpus_df.append({\n",
            "<ipython-input-303-1e4dd9d74308>:18: FutureWarning: The frame.append method is deprecated and will be removed from pandas in a future version. Use pandas.concat instead.\n",
            "  corpus_df = corpus_df.append({\n",
            "<ipython-input-303-1e4dd9d74308>:18: FutureWarning: The frame.append method is deprecated and will be removed from pandas in a future version. Use pandas.concat instead.\n",
            "  corpus_df = corpus_df.append({\n",
            "<ipython-input-303-1e4dd9d74308>:18: FutureWarning: The frame.append method is deprecated and will be removed from pandas in a future version. Use pandas.concat instead.\n",
            "  corpus_df = corpus_df.append({\n",
            "<ipython-input-303-1e4dd9d74308>:18: FutureWarning: The frame.append method is deprecated and will be removed from pandas in a future version. Use pandas.concat instead.\n",
            "  corpus_df = corpus_df.append({\n",
            "<ipython-input-303-1e4dd9d74308>:18: FutureWarning: The frame.append method is deprecated and will be removed from pandas in a future version. Use pandas.concat instead.\n",
            "  corpus_df = corpus_df.append({\n",
            "<ipython-input-303-1e4dd9d74308>:18: FutureWarning: The frame.append method is deprecated and will be removed from pandas in a future version. Use pandas.concat instead.\n",
            "  corpus_df = corpus_df.append({\n",
            "<ipython-input-303-1e4dd9d74308>:18: FutureWarning: The frame.append method is deprecated and will be removed from pandas in a future version. Use pandas.concat instead.\n",
            "  corpus_df = corpus_df.append({\n",
            "<ipython-input-303-1e4dd9d74308>:18: FutureWarning: The frame.append method is deprecated and will be removed from pandas in a future version. Use pandas.concat instead.\n",
            "  corpus_df = corpus_df.append({\n",
            "<ipython-input-303-1e4dd9d74308>:18: FutureWarning: The frame.append method is deprecated and will be removed from pandas in a future version. Use pandas.concat instead.\n",
            "  corpus_df = corpus_df.append({\n",
            "<ipython-input-303-1e4dd9d74308>:18: FutureWarning: The frame.append method is deprecated and will be removed from pandas in a future version. Use pandas.concat instead.\n",
            "  corpus_df = corpus_df.append({\n",
            "<ipython-input-303-1e4dd9d74308>:18: FutureWarning: The frame.append method is deprecated and will be removed from pandas in a future version. Use pandas.concat instead.\n",
            "  corpus_df = corpus_df.append({\n",
            "<ipython-input-303-1e4dd9d74308>:18: FutureWarning: The frame.append method is deprecated and will be removed from pandas in a future version. Use pandas.concat instead.\n",
            "  corpus_df = corpus_df.append({\n",
            "<ipython-input-303-1e4dd9d74308>:18: FutureWarning: The frame.append method is deprecated and will be removed from pandas in a future version. Use pandas.concat instead.\n",
            "  corpus_df = corpus_df.append({\n",
            "<ipython-input-303-1e4dd9d74308>:18: FutureWarning: The frame.append method is deprecated and will be removed from pandas in a future version. Use pandas.concat instead.\n",
            "  corpus_df = corpus_df.append({\n",
            "<ipython-input-303-1e4dd9d74308>:18: FutureWarning: The frame.append method is deprecated and will be removed from pandas in a future version. Use pandas.concat instead.\n",
            "  corpus_df = corpus_df.append({\n",
            "<ipython-input-303-1e4dd9d74308>:18: FutureWarning: The frame.append method is deprecated and will be removed from pandas in a future version. Use pandas.concat instead.\n",
            "  corpus_df = corpus_df.append({\n",
            "<ipython-input-303-1e4dd9d74308>:18: FutureWarning: The frame.append method is deprecated and will be removed from pandas in a future version. Use pandas.concat instead.\n",
            "  corpus_df = corpus_df.append({\n",
            "<ipython-input-303-1e4dd9d74308>:18: FutureWarning: The frame.append method is deprecated and will be removed from pandas in a future version. Use pandas.concat instead.\n",
            "  corpus_df = corpus_df.append({\n",
            "<ipython-input-303-1e4dd9d74308>:18: FutureWarning: The frame.append method is deprecated and will be removed from pandas in a future version. Use pandas.concat instead.\n",
            "  corpus_df = corpus_df.append({\n",
            "<ipython-input-303-1e4dd9d74308>:18: FutureWarning: The frame.append method is deprecated and will be removed from pandas in a future version. Use pandas.concat instead.\n",
            "  corpus_df = corpus_df.append({\n",
            "<ipython-input-303-1e4dd9d74308>:18: FutureWarning: The frame.append method is deprecated and will be removed from pandas in a future version. Use pandas.concat instead.\n",
            "  corpus_df = corpus_df.append({\n",
            "<ipython-input-303-1e4dd9d74308>:18: FutureWarning: The frame.append method is deprecated and will be removed from pandas in a future version. Use pandas.concat instead.\n",
            "  corpus_df = corpus_df.append({\n",
            "<ipython-input-303-1e4dd9d74308>:18: FutureWarning: The frame.append method is deprecated and will be removed from pandas in a future version. Use pandas.concat instead.\n",
            "  corpus_df = corpus_df.append({\n",
            "<ipython-input-303-1e4dd9d74308>:18: FutureWarning: The frame.append method is deprecated and will be removed from pandas in a future version. Use pandas.concat instead.\n",
            "  corpus_df = corpus_df.append({\n",
            "<ipython-input-303-1e4dd9d74308>:18: FutureWarning: The frame.append method is deprecated and will be removed from pandas in a future version. Use pandas.concat instead.\n",
            "  corpus_df = corpus_df.append({\n",
            "<ipython-input-303-1e4dd9d74308>:18: FutureWarning: The frame.append method is deprecated and will be removed from pandas in a future version. Use pandas.concat instead.\n",
            "  corpus_df = corpus_df.append({\n",
            "<ipython-input-303-1e4dd9d74308>:18: FutureWarning: The frame.append method is deprecated and will be removed from pandas in a future version. Use pandas.concat instead.\n",
            "  corpus_df = corpus_df.append({\n",
            "<ipython-input-303-1e4dd9d74308>:18: FutureWarning: The frame.append method is deprecated and will be removed from pandas in a future version. Use pandas.concat instead.\n",
            "  corpus_df = corpus_df.append({\n",
            "<ipython-input-303-1e4dd9d74308>:18: FutureWarning: The frame.append method is deprecated and will be removed from pandas in a future version. Use pandas.concat instead.\n",
            "  corpus_df = corpus_df.append({\n",
            "<ipython-input-303-1e4dd9d74308>:18: FutureWarning: The frame.append method is deprecated and will be removed from pandas in a future version. Use pandas.concat instead.\n",
            "  corpus_df = corpus_df.append({\n",
            "<ipython-input-303-1e4dd9d74308>:18: FutureWarning: The frame.append method is deprecated and will be removed from pandas in a future version. Use pandas.concat instead.\n",
            "  corpus_df = corpus_df.append({\n",
            "<ipython-input-303-1e4dd9d74308>:18: FutureWarning: The frame.append method is deprecated and will be removed from pandas in a future version. Use pandas.concat instead.\n",
            "  corpus_df = corpus_df.append({\n",
            "<ipython-input-303-1e4dd9d74308>:18: FutureWarning: The frame.append method is deprecated and will be removed from pandas in a future version. Use pandas.concat instead.\n",
            "  corpus_df = corpus_df.append({\n",
            "<ipython-input-303-1e4dd9d74308>:18: FutureWarning: The frame.append method is deprecated and will be removed from pandas in a future version. Use pandas.concat instead.\n",
            "  corpus_df = corpus_df.append({\n",
            "<ipython-input-303-1e4dd9d74308>:18: FutureWarning: The frame.append method is deprecated and will be removed from pandas in a future version. Use pandas.concat instead.\n",
            "  corpus_df = corpus_df.append({\n",
            "<ipython-input-303-1e4dd9d74308>:18: FutureWarning: The frame.append method is deprecated and will be removed from pandas in a future version. Use pandas.concat instead.\n",
            "  corpus_df = corpus_df.append({\n",
            "<ipython-input-303-1e4dd9d74308>:18: FutureWarning: The frame.append method is deprecated and will be removed from pandas in a future version. Use pandas.concat instead.\n",
            "  corpus_df = corpus_df.append({\n",
            "<ipython-input-303-1e4dd9d74308>:18: FutureWarning: The frame.append method is deprecated and will be removed from pandas in a future version. Use pandas.concat instead.\n",
            "  corpus_df = corpus_df.append({\n",
            "<ipython-input-303-1e4dd9d74308>:18: FutureWarning: The frame.append method is deprecated and will be removed from pandas in a future version. Use pandas.concat instead.\n",
            "  corpus_df = corpus_df.append({\n",
            "<ipython-input-303-1e4dd9d74308>:18: FutureWarning: The frame.append method is deprecated and will be removed from pandas in a future version. Use pandas.concat instead.\n",
            "  corpus_df = corpus_df.append({\n",
            "<ipython-input-303-1e4dd9d74308>:18: FutureWarning: The frame.append method is deprecated and will be removed from pandas in a future version. Use pandas.concat instead.\n",
            "  corpus_df = corpus_df.append({\n",
            "<ipython-input-303-1e4dd9d74308>:18: FutureWarning: The frame.append method is deprecated and will be removed from pandas in a future version. Use pandas.concat instead.\n",
            "  corpus_df = corpus_df.append({\n",
            "<ipython-input-303-1e4dd9d74308>:18: FutureWarning: The frame.append method is deprecated and will be removed from pandas in a future version. Use pandas.concat instead.\n",
            "  corpus_df = corpus_df.append({\n",
            "<ipython-input-303-1e4dd9d74308>:18: FutureWarning: The frame.append method is deprecated and will be removed from pandas in a future version. Use pandas.concat instead.\n",
            "  corpus_df = corpus_df.append({\n",
            "<ipython-input-303-1e4dd9d74308>:18: FutureWarning: The frame.append method is deprecated and will be removed from pandas in a future version. Use pandas.concat instead.\n",
            "  corpus_df = corpus_df.append({\n",
            "<ipython-input-303-1e4dd9d74308>:18: FutureWarning: The frame.append method is deprecated and will be removed from pandas in a future version. Use pandas.concat instead.\n",
            "  corpus_df = corpus_df.append({\n",
            "<ipython-input-303-1e4dd9d74308>:18: FutureWarning: The frame.append method is deprecated and will be removed from pandas in a future version. Use pandas.concat instead.\n",
            "  corpus_df = corpus_df.append({\n",
            "<ipython-input-303-1e4dd9d74308>:18: FutureWarning: The frame.append method is deprecated and will be removed from pandas in a future version. Use pandas.concat instead.\n",
            "  corpus_df = corpus_df.append({\n",
            "<ipython-input-303-1e4dd9d74308>:18: FutureWarning: The frame.append method is deprecated and will be removed from pandas in a future version. Use pandas.concat instead.\n",
            "  corpus_df = corpus_df.append({\n",
            "<ipython-input-303-1e4dd9d74308>:18: FutureWarning: The frame.append method is deprecated and will be removed from pandas in a future version. Use pandas.concat instead.\n",
            "  corpus_df = corpus_df.append({\n",
            "<ipython-input-303-1e4dd9d74308>:18: FutureWarning: The frame.append method is deprecated and will be removed from pandas in a future version. Use pandas.concat instead.\n",
            "  corpus_df = corpus_df.append({\n",
            "<ipython-input-303-1e4dd9d74308>:18: FutureWarning: The frame.append method is deprecated and will be removed from pandas in a future version. Use pandas.concat instead.\n",
            "  corpus_df = corpus_df.append({\n",
            "<ipython-input-303-1e4dd9d74308>:18: FutureWarning: The frame.append method is deprecated and will be removed from pandas in a future version. Use pandas.concat instead.\n",
            "  corpus_df = corpus_df.append({\n",
            "<ipython-input-303-1e4dd9d74308>:18: FutureWarning: The frame.append method is deprecated and will be removed from pandas in a future version. Use pandas.concat instead.\n",
            "  corpus_df = corpus_df.append({\n",
            "<ipython-input-303-1e4dd9d74308>:18: FutureWarning: The frame.append method is deprecated and will be removed from pandas in a future version. Use pandas.concat instead.\n",
            "  corpus_df = corpus_df.append({\n",
            "<ipython-input-303-1e4dd9d74308>:18: FutureWarning: The frame.append method is deprecated and will be removed from pandas in a future version. Use pandas.concat instead.\n",
            "  corpus_df = corpus_df.append({\n",
            "<ipython-input-303-1e4dd9d74308>:18: FutureWarning: The frame.append method is deprecated and will be removed from pandas in a future version. Use pandas.concat instead.\n",
            "  corpus_df = corpus_df.append({\n",
            "<ipython-input-303-1e4dd9d74308>:18: FutureWarning: The frame.append method is deprecated and will be removed from pandas in a future version. Use pandas.concat instead.\n",
            "  corpus_df = corpus_df.append({\n",
            "<ipython-input-303-1e4dd9d74308>:18: FutureWarning: The frame.append method is deprecated and will be removed from pandas in a future version. Use pandas.concat instead.\n",
            "  corpus_df = corpus_df.append({\n",
            "<ipython-input-303-1e4dd9d74308>:18: FutureWarning: The frame.append method is deprecated and will be removed from pandas in a future version. Use pandas.concat instead.\n",
            "  corpus_df = corpus_df.append({\n",
            "<ipython-input-303-1e4dd9d74308>:18: FutureWarning: The frame.append method is deprecated and will be removed from pandas in a future version. Use pandas.concat instead.\n",
            "  corpus_df = corpus_df.append({\n",
            "<ipython-input-303-1e4dd9d74308>:18: FutureWarning: The frame.append method is deprecated and will be removed from pandas in a future version. Use pandas.concat instead.\n",
            "  corpus_df = corpus_df.append({\n",
            "<ipython-input-303-1e4dd9d74308>:18: FutureWarning: The frame.append method is deprecated and will be removed from pandas in a future version. Use pandas.concat instead.\n",
            "  corpus_df = corpus_df.append({\n",
            "<ipython-input-303-1e4dd9d74308>:18: FutureWarning: The frame.append method is deprecated and will be removed from pandas in a future version. Use pandas.concat instead.\n",
            "  corpus_df = corpus_df.append({\n",
            "<ipython-input-303-1e4dd9d74308>:18: FutureWarning: The frame.append method is deprecated and will be removed from pandas in a future version. Use pandas.concat instead.\n",
            "  corpus_df = corpus_df.append({\n",
            "<ipython-input-303-1e4dd9d74308>:18: FutureWarning: The frame.append method is deprecated and will be removed from pandas in a future version. Use pandas.concat instead.\n",
            "  corpus_df = corpus_df.append({\n",
            "<ipython-input-303-1e4dd9d74308>:18: FutureWarning: The frame.append method is deprecated and will be removed from pandas in a future version. Use pandas.concat instead.\n",
            "  corpus_df = corpus_df.append({\n",
            "<ipython-input-303-1e4dd9d74308>:18: FutureWarning: The frame.append method is deprecated and will be removed from pandas in a future version. Use pandas.concat instead.\n",
            "  corpus_df = corpus_df.append({\n",
            "<ipython-input-303-1e4dd9d74308>:18: FutureWarning: The frame.append method is deprecated and will be removed from pandas in a future version. Use pandas.concat instead.\n",
            "  corpus_df = corpus_df.append({\n",
            "<ipython-input-303-1e4dd9d74308>:18: FutureWarning: The frame.append method is deprecated and will be removed from pandas in a future version. Use pandas.concat instead.\n",
            "  corpus_df = corpus_df.append({\n",
            "<ipython-input-303-1e4dd9d74308>:18: FutureWarning: The frame.append method is deprecated and will be removed from pandas in a future version. Use pandas.concat instead.\n",
            "  corpus_df = corpus_df.append({\n",
            "<ipython-input-303-1e4dd9d74308>:18: FutureWarning: The frame.append method is deprecated and will be removed from pandas in a future version. Use pandas.concat instead.\n",
            "  corpus_df = corpus_df.append({\n",
            "<ipython-input-303-1e4dd9d74308>:18: FutureWarning: The frame.append method is deprecated and will be removed from pandas in a future version. Use pandas.concat instead.\n",
            "  corpus_df = corpus_df.append({\n",
            "<ipython-input-303-1e4dd9d74308>:18: FutureWarning: The frame.append method is deprecated and will be removed from pandas in a future version. Use pandas.concat instead.\n",
            "  corpus_df = corpus_df.append({\n",
            "<ipython-input-303-1e4dd9d74308>:18: FutureWarning: The frame.append method is deprecated and will be removed from pandas in a future version. Use pandas.concat instead.\n",
            "  corpus_df = corpus_df.append({\n",
            "<ipython-input-303-1e4dd9d74308>:18: FutureWarning: The frame.append method is deprecated and will be removed from pandas in a future version. Use pandas.concat instead.\n",
            "  corpus_df = corpus_df.append({\n",
            "<ipython-input-303-1e4dd9d74308>:18: FutureWarning: The frame.append method is deprecated and will be removed from pandas in a future version. Use pandas.concat instead.\n",
            "  corpus_df = corpus_df.append({\n",
            "<ipython-input-303-1e4dd9d74308>:18: FutureWarning: The frame.append method is deprecated and will be removed from pandas in a future version. Use pandas.concat instead.\n",
            "  corpus_df = corpus_df.append({\n",
            "<ipython-input-303-1e4dd9d74308>:18: FutureWarning: The frame.append method is deprecated and will be removed from pandas in a future version. Use pandas.concat instead.\n",
            "  corpus_df = corpus_df.append({\n",
            "<ipython-input-303-1e4dd9d74308>:18: FutureWarning: The frame.append method is deprecated and will be removed from pandas in a future version. Use pandas.concat instead.\n",
            "  corpus_df = corpus_df.append({\n",
            "<ipython-input-303-1e4dd9d74308>:18: FutureWarning: The frame.append method is deprecated and will be removed from pandas in a future version. Use pandas.concat instead.\n",
            "  corpus_df = corpus_df.append({\n",
            "<ipython-input-303-1e4dd9d74308>:18: FutureWarning: The frame.append method is deprecated and will be removed from pandas in a future version. Use pandas.concat instead.\n",
            "  corpus_df = corpus_df.append({\n",
            "<ipython-input-303-1e4dd9d74308>:18: FutureWarning: The frame.append method is deprecated and will be removed from pandas in a future version. Use pandas.concat instead.\n",
            "  corpus_df = corpus_df.append({\n",
            "<ipython-input-303-1e4dd9d74308>:18: FutureWarning: The frame.append method is deprecated and will be removed from pandas in a future version. Use pandas.concat instead.\n",
            "  corpus_df = corpus_df.append({\n",
            "<ipython-input-303-1e4dd9d74308>:18: FutureWarning: The frame.append method is deprecated and will be removed from pandas in a future version. Use pandas.concat instead.\n",
            "  corpus_df = corpus_df.append({\n",
            "<ipython-input-303-1e4dd9d74308>:18: FutureWarning: The frame.append method is deprecated and will be removed from pandas in a future version. Use pandas.concat instead.\n",
            "  corpus_df = corpus_df.append({\n",
            "<ipython-input-303-1e4dd9d74308>:18: FutureWarning: The frame.append method is deprecated and will be removed from pandas in a future version. Use pandas.concat instead.\n",
            "  corpus_df = corpus_df.append({\n",
            "<ipython-input-303-1e4dd9d74308>:18: FutureWarning: The frame.append method is deprecated and will be removed from pandas in a future version. Use pandas.concat instead.\n",
            "  corpus_df = corpus_df.append({\n",
            "<ipython-input-303-1e4dd9d74308>:18: FutureWarning: The frame.append method is deprecated and will be removed from pandas in a future version. Use pandas.concat instead.\n",
            "  corpus_df = corpus_df.append({\n",
            "<ipython-input-303-1e4dd9d74308>:18: FutureWarning: The frame.append method is deprecated and will be removed from pandas in a future version. Use pandas.concat instead.\n",
            "  corpus_df = corpus_df.append({\n",
            "<ipython-input-303-1e4dd9d74308>:18: FutureWarning: The frame.append method is deprecated and will be removed from pandas in a future version. Use pandas.concat instead.\n",
            "  corpus_df = corpus_df.append({\n"
          ]
        }
      ]
    },
    {
      "cell_type": "code",
      "source": [
        "len(corpus_df)"
      ],
      "metadata": {
        "colab": {
          "base_uri": "https://localhost:8080/"
        },
        "id": "AeLnrrdpFr2y",
        "outputId": "7680ae95-6170-41b7-ec2d-c832e7e37294"
      },
      "execution_count": null,
      "outputs": [
        {
          "output_type": "execute_result",
          "data": {
            "text/plain": [
              "106"
            ]
          },
          "metadata": {},
          "execution_count": 304
        }
      ]
    },
    {
      "cell_type": "code",
      "source": [
        "# Export the contents of the corpus_df DataFrame to a CSV file named \"corpus.csv\"\n",
        "corpus_df.to_csv(\"corpus.csv\", index=False)"
      ],
      "metadata": {
        "id": "QSRZN607_q0_"
      },
      "execution_count": null,
      "outputs": []
    },
    {
      "cell_type": "code",
      "source": [
        "read_for_tokens=pd.read_csv('corpus.csv')\n",
        "read_for_tokens.set_index('topic',inplace=True)\n",
        "read_for_tokens=read_for_tokens['content'].to_dict()"
      ],
      "metadata": {
        "id": "m_eJzIUtGBKt"
      },
      "execution_count": null,
      "outputs": []
    },
    {
      "cell_type": "markdown",
      "source": [
        "**tokens.csv Creation**"
      ],
      "metadata": {
        "id": "g6moEeViF1R9"
      }
    },
    {
      "cell_type": "code",
      "source": [
        "# This function takes in text, tokenizes it, extracts stems and lemmas for each token, and returns them as strings.\n",
        "def extract_stems_and_lemmas(text):\n",
        "    tokens = word_tokenize(text)\n",
        "    stems = ' '.join([stemmer.stem(word) for word in tokens])\n",
        "    lemmas = ' '.join([lemmatizer.lemmatize(word) for word in tokens])\n",
        "    return stems, lemmas"
      ],
      "metadata": {
        "id": "0rdbme74KCwY"
      },
      "execution_count": null,
      "outputs": []
    },
    {
      "cell_type": "code",
      "source": [
        "for key in read_for_tokens.keys():\n",
        "  stems ,lemmas = extract_stems_and_lemmas(read_for_tokens[key])\n",
        "  tokens_df = tokens_df.append(\n",
        "      {\n",
        "       \"topic\": key,\n",
        "       \"stems\": stems,\n",
        "       \"lemmas\": lemmas\n",
        "          },\n",
        "      ignore_index=True\n",
        "      )\n",
        "\n",
        "# Export the contents of the tokens_df DataFrame to a CSV file named \"tokens.csv\"\n",
        "tokens_df.to_csv(\"tokens.csv\", index=False)"
      ],
      "metadata": {
        "id": "TUiZuTzEFkmB",
        "colab": {
          "base_uri": "https://localhost:8080/"
        },
        "outputId": "e3890f91-5d10-4800-eb27-5315527ab2ab"
      },
      "execution_count": null,
      "outputs": [
        {
          "output_type": "stream",
          "name": "stderr",
          "text": [
            "<ipython-input-308-73e411e2f1b4>:3: FutureWarning: The frame.append method is deprecated and will be removed from pandas in a future version. Use pandas.concat instead.\n",
            "  tokens_df = tokens_df.append(\n",
            "<ipython-input-308-73e411e2f1b4>:3: FutureWarning: The frame.append method is deprecated and will be removed from pandas in a future version. Use pandas.concat instead.\n",
            "  tokens_df = tokens_df.append(\n",
            "<ipython-input-308-73e411e2f1b4>:3: FutureWarning: The frame.append method is deprecated and will be removed from pandas in a future version. Use pandas.concat instead.\n",
            "  tokens_df = tokens_df.append(\n",
            "<ipython-input-308-73e411e2f1b4>:3: FutureWarning: The frame.append method is deprecated and will be removed from pandas in a future version. Use pandas.concat instead.\n",
            "  tokens_df = tokens_df.append(\n",
            "<ipython-input-308-73e411e2f1b4>:3: FutureWarning: The frame.append method is deprecated and will be removed from pandas in a future version. Use pandas.concat instead.\n",
            "  tokens_df = tokens_df.append(\n",
            "<ipython-input-308-73e411e2f1b4>:3: FutureWarning: The frame.append method is deprecated and will be removed from pandas in a future version. Use pandas.concat instead.\n",
            "  tokens_df = tokens_df.append(\n",
            "<ipython-input-308-73e411e2f1b4>:3: FutureWarning: The frame.append method is deprecated and will be removed from pandas in a future version. Use pandas.concat instead.\n",
            "  tokens_df = tokens_df.append(\n",
            "<ipython-input-308-73e411e2f1b4>:3: FutureWarning: The frame.append method is deprecated and will be removed from pandas in a future version. Use pandas.concat instead.\n",
            "  tokens_df = tokens_df.append(\n",
            "<ipython-input-308-73e411e2f1b4>:3: FutureWarning: The frame.append method is deprecated and will be removed from pandas in a future version. Use pandas.concat instead.\n",
            "  tokens_df = tokens_df.append(\n",
            "<ipython-input-308-73e411e2f1b4>:3: FutureWarning: The frame.append method is deprecated and will be removed from pandas in a future version. Use pandas.concat instead.\n",
            "  tokens_df = tokens_df.append(\n",
            "<ipython-input-308-73e411e2f1b4>:3: FutureWarning: The frame.append method is deprecated and will be removed from pandas in a future version. Use pandas.concat instead.\n",
            "  tokens_df = tokens_df.append(\n",
            "<ipython-input-308-73e411e2f1b4>:3: FutureWarning: The frame.append method is deprecated and will be removed from pandas in a future version. Use pandas.concat instead.\n",
            "  tokens_df = tokens_df.append(\n",
            "<ipython-input-308-73e411e2f1b4>:3: FutureWarning: The frame.append method is deprecated and will be removed from pandas in a future version. Use pandas.concat instead.\n",
            "  tokens_df = tokens_df.append(\n",
            "<ipython-input-308-73e411e2f1b4>:3: FutureWarning: The frame.append method is deprecated and will be removed from pandas in a future version. Use pandas.concat instead.\n",
            "  tokens_df = tokens_df.append(\n",
            "<ipython-input-308-73e411e2f1b4>:3: FutureWarning: The frame.append method is deprecated and will be removed from pandas in a future version. Use pandas.concat instead.\n",
            "  tokens_df = tokens_df.append(\n",
            "<ipython-input-308-73e411e2f1b4>:3: FutureWarning: The frame.append method is deprecated and will be removed from pandas in a future version. Use pandas.concat instead.\n",
            "  tokens_df = tokens_df.append(\n",
            "<ipython-input-308-73e411e2f1b4>:3: FutureWarning: The frame.append method is deprecated and will be removed from pandas in a future version. Use pandas.concat instead.\n",
            "  tokens_df = tokens_df.append(\n",
            "<ipython-input-308-73e411e2f1b4>:3: FutureWarning: The frame.append method is deprecated and will be removed from pandas in a future version. Use pandas.concat instead.\n",
            "  tokens_df = tokens_df.append(\n",
            "<ipython-input-308-73e411e2f1b4>:3: FutureWarning: The frame.append method is deprecated and will be removed from pandas in a future version. Use pandas.concat instead.\n",
            "  tokens_df = tokens_df.append(\n",
            "<ipython-input-308-73e411e2f1b4>:3: FutureWarning: The frame.append method is deprecated and will be removed from pandas in a future version. Use pandas.concat instead.\n",
            "  tokens_df = tokens_df.append(\n",
            "<ipython-input-308-73e411e2f1b4>:3: FutureWarning: The frame.append method is deprecated and will be removed from pandas in a future version. Use pandas.concat instead.\n",
            "  tokens_df = tokens_df.append(\n",
            "<ipython-input-308-73e411e2f1b4>:3: FutureWarning: The frame.append method is deprecated and will be removed from pandas in a future version. Use pandas.concat instead.\n",
            "  tokens_df = tokens_df.append(\n",
            "<ipython-input-308-73e411e2f1b4>:3: FutureWarning: The frame.append method is deprecated and will be removed from pandas in a future version. Use pandas.concat instead.\n",
            "  tokens_df = tokens_df.append(\n",
            "<ipython-input-308-73e411e2f1b4>:3: FutureWarning: The frame.append method is deprecated and will be removed from pandas in a future version. Use pandas.concat instead.\n",
            "  tokens_df = tokens_df.append(\n",
            "<ipython-input-308-73e411e2f1b4>:3: FutureWarning: The frame.append method is deprecated and will be removed from pandas in a future version. Use pandas.concat instead.\n",
            "  tokens_df = tokens_df.append(\n",
            "<ipython-input-308-73e411e2f1b4>:3: FutureWarning: The frame.append method is deprecated and will be removed from pandas in a future version. Use pandas.concat instead.\n",
            "  tokens_df = tokens_df.append(\n",
            "<ipython-input-308-73e411e2f1b4>:3: FutureWarning: The frame.append method is deprecated and will be removed from pandas in a future version. Use pandas.concat instead.\n",
            "  tokens_df = tokens_df.append(\n",
            "<ipython-input-308-73e411e2f1b4>:3: FutureWarning: The frame.append method is deprecated and will be removed from pandas in a future version. Use pandas.concat instead.\n",
            "  tokens_df = tokens_df.append(\n",
            "<ipython-input-308-73e411e2f1b4>:3: FutureWarning: The frame.append method is deprecated and will be removed from pandas in a future version. Use pandas.concat instead.\n",
            "  tokens_df = tokens_df.append(\n",
            "<ipython-input-308-73e411e2f1b4>:3: FutureWarning: The frame.append method is deprecated and will be removed from pandas in a future version. Use pandas.concat instead.\n",
            "  tokens_df = tokens_df.append(\n",
            "<ipython-input-308-73e411e2f1b4>:3: FutureWarning: The frame.append method is deprecated and will be removed from pandas in a future version. Use pandas.concat instead.\n",
            "  tokens_df = tokens_df.append(\n",
            "<ipython-input-308-73e411e2f1b4>:3: FutureWarning: The frame.append method is deprecated and will be removed from pandas in a future version. Use pandas.concat instead.\n",
            "  tokens_df = tokens_df.append(\n",
            "<ipython-input-308-73e411e2f1b4>:3: FutureWarning: The frame.append method is deprecated and will be removed from pandas in a future version. Use pandas.concat instead.\n",
            "  tokens_df = tokens_df.append(\n",
            "<ipython-input-308-73e411e2f1b4>:3: FutureWarning: The frame.append method is deprecated and will be removed from pandas in a future version. Use pandas.concat instead.\n",
            "  tokens_df = tokens_df.append(\n",
            "<ipython-input-308-73e411e2f1b4>:3: FutureWarning: The frame.append method is deprecated and will be removed from pandas in a future version. Use pandas.concat instead.\n",
            "  tokens_df = tokens_df.append(\n",
            "<ipython-input-308-73e411e2f1b4>:3: FutureWarning: The frame.append method is deprecated and will be removed from pandas in a future version. Use pandas.concat instead.\n",
            "  tokens_df = tokens_df.append(\n",
            "<ipython-input-308-73e411e2f1b4>:3: FutureWarning: The frame.append method is deprecated and will be removed from pandas in a future version. Use pandas.concat instead.\n",
            "  tokens_df = tokens_df.append(\n",
            "<ipython-input-308-73e411e2f1b4>:3: FutureWarning: The frame.append method is deprecated and will be removed from pandas in a future version. Use pandas.concat instead.\n",
            "  tokens_df = tokens_df.append(\n",
            "<ipython-input-308-73e411e2f1b4>:3: FutureWarning: The frame.append method is deprecated and will be removed from pandas in a future version. Use pandas.concat instead.\n",
            "  tokens_df = tokens_df.append(\n",
            "<ipython-input-308-73e411e2f1b4>:3: FutureWarning: The frame.append method is deprecated and will be removed from pandas in a future version. Use pandas.concat instead.\n",
            "  tokens_df = tokens_df.append(\n",
            "<ipython-input-308-73e411e2f1b4>:3: FutureWarning: The frame.append method is deprecated and will be removed from pandas in a future version. Use pandas.concat instead.\n",
            "  tokens_df = tokens_df.append(\n",
            "<ipython-input-308-73e411e2f1b4>:3: FutureWarning: The frame.append method is deprecated and will be removed from pandas in a future version. Use pandas.concat instead.\n",
            "  tokens_df = tokens_df.append(\n",
            "<ipython-input-308-73e411e2f1b4>:3: FutureWarning: The frame.append method is deprecated and will be removed from pandas in a future version. Use pandas.concat instead.\n",
            "  tokens_df = tokens_df.append(\n",
            "<ipython-input-308-73e411e2f1b4>:3: FutureWarning: The frame.append method is deprecated and will be removed from pandas in a future version. Use pandas.concat instead.\n",
            "  tokens_df = tokens_df.append(\n",
            "<ipython-input-308-73e411e2f1b4>:3: FutureWarning: The frame.append method is deprecated and will be removed from pandas in a future version. Use pandas.concat instead.\n",
            "  tokens_df = tokens_df.append(\n",
            "<ipython-input-308-73e411e2f1b4>:3: FutureWarning: The frame.append method is deprecated and will be removed from pandas in a future version. Use pandas.concat instead.\n",
            "  tokens_df = tokens_df.append(\n",
            "<ipython-input-308-73e411e2f1b4>:3: FutureWarning: The frame.append method is deprecated and will be removed from pandas in a future version. Use pandas.concat instead.\n",
            "  tokens_df = tokens_df.append(\n",
            "<ipython-input-308-73e411e2f1b4>:3: FutureWarning: The frame.append method is deprecated and will be removed from pandas in a future version. Use pandas.concat instead.\n",
            "  tokens_df = tokens_df.append(\n",
            "<ipython-input-308-73e411e2f1b4>:3: FutureWarning: The frame.append method is deprecated and will be removed from pandas in a future version. Use pandas.concat instead.\n",
            "  tokens_df = tokens_df.append(\n",
            "<ipython-input-308-73e411e2f1b4>:3: FutureWarning: The frame.append method is deprecated and will be removed from pandas in a future version. Use pandas.concat instead.\n",
            "  tokens_df = tokens_df.append(\n",
            "<ipython-input-308-73e411e2f1b4>:3: FutureWarning: The frame.append method is deprecated and will be removed from pandas in a future version. Use pandas.concat instead.\n",
            "  tokens_df = tokens_df.append(\n",
            "<ipython-input-308-73e411e2f1b4>:3: FutureWarning: The frame.append method is deprecated and will be removed from pandas in a future version. Use pandas.concat instead.\n",
            "  tokens_df = tokens_df.append(\n",
            "<ipython-input-308-73e411e2f1b4>:3: FutureWarning: The frame.append method is deprecated and will be removed from pandas in a future version. Use pandas.concat instead.\n",
            "  tokens_df = tokens_df.append(\n",
            "<ipython-input-308-73e411e2f1b4>:3: FutureWarning: The frame.append method is deprecated and will be removed from pandas in a future version. Use pandas.concat instead.\n",
            "  tokens_df = tokens_df.append(\n",
            "<ipython-input-308-73e411e2f1b4>:3: FutureWarning: The frame.append method is deprecated and will be removed from pandas in a future version. Use pandas.concat instead.\n",
            "  tokens_df = tokens_df.append(\n",
            "<ipython-input-308-73e411e2f1b4>:3: FutureWarning: The frame.append method is deprecated and will be removed from pandas in a future version. Use pandas.concat instead.\n",
            "  tokens_df = tokens_df.append(\n",
            "<ipython-input-308-73e411e2f1b4>:3: FutureWarning: The frame.append method is deprecated and will be removed from pandas in a future version. Use pandas.concat instead.\n",
            "  tokens_df = tokens_df.append(\n",
            "<ipython-input-308-73e411e2f1b4>:3: FutureWarning: The frame.append method is deprecated and will be removed from pandas in a future version. Use pandas.concat instead.\n",
            "  tokens_df = tokens_df.append(\n",
            "<ipython-input-308-73e411e2f1b4>:3: FutureWarning: The frame.append method is deprecated and will be removed from pandas in a future version. Use pandas.concat instead.\n",
            "  tokens_df = tokens_df.append(\n",
            "<ipython-input-308-73e411e2f1b4>:3: FutureWarning: The frame.append method is deprecated and will be removed from pandas in a future version. Use pandas.concat instead.\n",
            "  tokens_df = tokens_df.append(\n",
            "<ipython-input-308-73e411e2f1b4>:3: FutureWarning: The frame.append method is deprecated and will be removed from pandas in a future version. Use pandas.concat instead.\n",
            "  tokens_df = tokens_df.append(\n",
            "<ipython-input-308-73e411e2f1b4>:3: FutureWarning: The frame.append method is deprecated and will be removed from pandas in a future version. Use pandas.concat instead.\n",
            "  tokens_df = tokens_df.append(\n",
            "<ipython-input-308-73e411e2f1b4>:3: FutureWarning: The frame.append method is deprecated and will be removed from pandas in a future version. Use pandas.concat instead.\n",
            "  tokens_df = tokens_df.append(\n",
            "<ipython-input-308-73e411e2f1b4>:3: FutureWarning: The frame.append method is deprecated and will be removed from pandas in a future version. Use pandas.concat instead.\n",
            "  tokens_df = tokens_df.append(\n",
            "<ipython-input-308-73e411e2f1b4>:3: FutureWarning: The frame.append method is deprecated and will be removed from pandas in a future version. Use pandas.concat instead.\n",
            "  tokens_df = tokens_df.append(\n",
            "<ipython-input-308-73e411e2f1b4>:3: FutureWarning: The frame.append method is deprecated and will be removed from pandas in a future version. Use pandas.concat instead.\n",
            "  tokens_df = tokens_df.append(\n",
            "<ipython-input-308-73e411e2f1b4>:3: FutureWarning: The frame.append method is deprecated and will be removed from pandas in a future version. Use pandas.concat instead.\n",
            "  tokens_df = tokens_df.append(\n",
            "<ipython-input-308-73e411e2f1b4>:3: FutureWarning: The frame.append method is deprecated and will be removed from pandas in a future version. Use pandas.concat instead.\n",
            "  tokens_df = tokens_df.append(\n",
            "<ipython-input-308-73e411e2f1b4>:3: FutureWarning: The frame.append method is deprecated and will be removed from pandas in a future version. Use pandas.concat instead.\n",
            "  tokens_df = tokens_df.append(\n",
            "<ipython-input-308-73e411e2f1b4>:3: FutureWarning: The frame.append method is deprecated and will be removed from pandas in a future version. Use pandas.concat instead.\n",
            "  tokens_df = tokens_df.append(\n",
            "<ipython-input-308-73e411e2f1b4>:3: FutureWarning: The frame.append method is deprecated and will be removed from pandas in a future version. Use pandas.concat instead.\n",
            "  tokens_df = tokens_df.append(\n",
            "<ipython-input-308-73e411e2f1b4>:3: FutureWarning: The frame.append method is deprecated and will be removed from pandas in a future version. Use pandas.concat instead.\n",
            "  tokens_df = tokens_df.append(\n",
            "<ipython-input-308-73e411e2f1b4>:3: FutureWarning: The frame.append method is deprecated and will be removed from pandas in a future version. Use pandas.concat instead.\n",
            "  tokens_df = tokens_df.append(\n",
            "<ipython-input-308-73e411e2f1b4>:3: FutureWarning: The frame.append method is deprecated and will be removed from pandas in a future version. Use pandas.concat instead.\n",
            "  tokens_df = tokens_df.append(\n",
            "<ipython-input-308-73e411e2f1b4>:3: FutureWarning: The frame.append method is deprecated and will be removed from pandas in a future version. Use pandas.concat instead.\n",
            "  tokens_df = tokens_df.append(\n",
            "<ipython-input-308-73e411e2f1b4>:3: FutureWarning: The frame.append method is deprecated and will be removed from pandas in a future version. Use pandas.concat instead.\n",
            "  tokens_df = tokens_df.append(\n",
            "<ipython-input-308-73e411e2f1b4>:3: FutureWarning: The frame.append method is deprecated and will be removed from pandas in a future version. Use pandas.concat instead.\n",
            "  tokens_df = tokens_df.append(\n",
            "<ipython-input-308-73e411e2f1b4>:3: FutureWarning: The frame.append method is deprecated and will be removed from pandas in a future version. Use pandas.concat instead.\n",
            "  tokens_df = tokens_df.append(\n",
            "<ipython-input-308-73e411e2f1b4>:3: FutureWarning: The frame.append method is deprecated and will be removed from pandas in a future version. Use pandas.concat instead.\n",
            "  tokens_df = tokens_df.append(\n",
            "<ipython-input-308-73e411e2f1b4>:3: FutureWarning: The frame.append method is deprecated and will be removed from pandas in a future version. Use pandas.concat instead.\n",
            "  tokens_df = tokens_df.append(\n",
            "<ipython-input-308-73e411e2f1b4>:3: FutureWarning: The frame.append method is deprecated and will be removed from pandas in a future version. Use pandas.concat instead.\n",
            "  tokens_df = tokens_df.append(\n",
            "<ipython-input-308-73e411e2f1b4>:3: FutureWarning: The frame.append method is deprecated and will be removed from pandas in a future version. Use pandas.concat instead.\n",
            "  tokens_df = tokens_df.append(\n",
            "<ipython-input-308-73e411e2f1b4>:3: FutureWarning: The frame.append method is deprecated and will be removed from pandas in a future version. Use pandas.concat instead.\n",
            "  tokens_df = tokens_df.append(\n",
            "<ipython-input-308-73e411e2f1b4>:3: FutureWarning: The frame.append method is deprecated and will be removed from pandas in a future version. Use pandas.concat instead.\n",
            "  tokens_df = tokens_df.append(\n",
            "<ipython-input-308-73e411e2f1b4>:3: FutureWarning: The frame.append method is deprecated and will be removed from pandas in a future version. Use pandas.concat instead.\n",
            "  tokens_df = tokens_df.append(\n",
            "<ipython-input-308-73e411e2f1b4>:3: FutureWarning: The frame.append method is deprecated and will be removed from pandas in a future version. Use pandas.concat instead.\n",
            "  tokens_df = tokens_df.append(\n",
            "<ipython-input-308-73e411e2f1b4>:3: FutureWarning: The frame.append method is deprecated and will be removed from pandas in a future version. Use pandas.concat instead.\n",
            "  tokens_df = tokens_df.append(\n",
            "<ipython-input-308-73e411e2f1b4>:3: FutureWarning: The frame.append method is deprecated and will be removed from pandas in a future version. Use pandas.concat instead.\n",
            "  tokens_df = tokens_df.append(\n"
          ]
        }
      ]
    },
    {
      "cell_type": "markdown",
      "source": [
        "**vocabulary.csv Creation**"
      ],
      "metadata": {
        "id": "CbusJ2WjLZNX"
      }
    },
    {
      "cell_type": "code",
      "source": [
        "def find_unique_words(text):\n",
        "    words = word_tokenize(text)\n",
        "    return list(set(words))"
      ],
      "metadata": {
        "id": "RjaHt4l7MecA"
      },
      "execution_count": null,
      "outputs": []
    },
    {
      "cell_type": "code",
      "source": [
        "for key in read_for_tokens.keys():\n",
        "  unique_words = ' '.join(find_unique_words(read_for_tokens[key]))\n",
        "  vocabulary_df = vocabulary_df.append({\"topic\": key, \"unique_words\": unique_words}, ignore_index=True)\n",
        "\n",
        "# Export the contents of the vocabulary_df DataFrame to a CSV file named \"vocabulary.csv\"\n",
        "vocabulary_df.to_csv(\"vocabulary.csv\", index=False)"
      ],
      "metadata": {
        "id": "O_YmNahELeBU",
        "colab": {
          "base_uri": "https://localhost:8080/"
        },
        "outputId": "ad69f5a6-7618-4131-c348-a986eef82293"
      },
      "execution_count": null,
      "outputs": [
        {
          "output_type": "stream",
          "name": "stderr",
          "text": [
            "<ipython-input-310-6796c2096760>:3: FutureWarning: The frame.append method is deprecated and will be removed from pandas in a future version. Use pandas.concat instead.\n",
            "  vocabulary_df = vocabulary_df.append({\"topic\": key, \"unique_words\": unique_words}, ignore_index=True)\n",
            "<ipython-input-310-6796c2096760>:3: FutureWarning: The frame.append method is deprecated and will be removed from pandas in a future version. Use pandas.concat instead.\n",
            "  vocabulary_df = vocabulary_df.append({\"topic\": key, \"unique_words\": unique_words}, ignore_index=True)\n",
            "<ipython-input-310-6796c2096760>:3: FutureWarning: The frame.append method is deprecated and will be removed from pandas in a future version. Use pandas.concat instead.\n",
            "  vocabulary_df = vocabulary_df.append({\"topic\": key, \"unique_words\": unique_words}, ignore_index=True)\n",
            "<ipython-input-310-6796c2096760>:3: FutureWarning: The frame.append method is deprecated and will be removed from pandas in a future version. Use pandas.concat instead.\n",
            "  vocabulary_df = vocabulary_df.append({\"topic\": key, \"unique_words\": unique_words}, ignore_index=True)\n",
            "<ipython-input-310-6796c2096760>:3: FutureWarning: The frame.append method is deprecated and will be removed from pandas in a future version. Use pandas.concat instead.\n",
            "  vocabulary_df = vocabulary_df.append({\"topic\": key, \"unique_words\": unique_words}, ignore_index=True)\n",
            "<ipython-input-310-6796c2096760>:3: FutureWarning: The frame.append method is deprecated and will be removed from pandas in a future version. Use pandas.concat instead.\n",
            "  vocabulary_df = vocabulary_df.append({\"topic\": key, \"unique_words\": unique_words}, ignore_index=True)\n",
            "<ipython-input-310-6796c2096760>:3: FutureWarning: The frame.append method is deprecated and will be removed from pandas in a future version. Use pandas.concat instead.\n",
            "  vocabulary_df = vocabulary_df.append({\"topic\": key, \"unique_words\": unique_words}, ignore_index=True)\n",
            "<ipython-input-310-6796c2096760>:3: FutureWarning: The frame.append method is deprecated and will be removed from pandas in a future version. Use pandas.concat instead.\n",
            "  vocabulary_df = vocabulary_df.append({\"topic\": key, \"unique_words\": unique_words}, ignore_index=True)\n",
            "<ipython-input-310-6796c2096760>:3: FutureWarning: The frame.append method is deprecated and will be removed from pandas in a future version. Use pandas.concat instead.\n",
            "  vocabulary_df = vocabulary_df.append({\"topic\": key, \"unique_words\": unique_words}, ignore_index=True)\n",
            "<ipython-input-310-6796c2096760>:3: FutureWarning: The frame.append method is deprecated and will be removed from pandas in a future version. Use pandas.concat instead.\n",
            "  vocabulary_df = vocabulary_df.append({\"topic\": key, \"unique_words\": unique_words}, ignore_index=True)\n",
            "<ipython-input-310-6796c2096760>:3: FutureWarning: The frame.append method is deprecated and will be removed from pandas in a future version. Use pandas.concat instead.\n",
            "  vocabulary_df = vocabulary_df.append({\"topic\": key, \"unique_words\": unique_words}, ignore_index=True)\n",
            "<ipython-input-310-6796c2096760>:3: FutureWarning: The frame.append method is deprecated and will be removed from pandas in a future version. Use pandas.concat instead.\n",
            "  vocabulary_df = vocabulary_df.append({\"topic\": key, \"unique_words\": unique_words}, ignore_index=True)\n",
            "<ipython-input-310-6796c2096760>:3: FutureWarning: The frame.append method is deprecated and will be removed from pandas in a future version. Use pandas.concat instead.\n",
            "  vocabulary_df = vocabulary_df.append({\"topic\": key, \"unique_words\": unique_words}, ignore_index=True)\n",
            "<ipython-input-310-6796c2096760>:3: FutureWarning: The frame.append method is deprecated and will be removed from pandas in a future version. Use pandas.concat instead.\n",
            "  vocabulary_df = vocabulary_df.append({\"topic\": key, \"unique_words\": unique_words}, ignore_index=True)\n",
            "<ipython-input-310-6796c2096760>:3: FutureWarning: The frame.append method is deprecated and will be removed from pandas in a future version. Use pandas.concat instead.\n",
            "  vocabulary_df = vocabulary_df.append({\"topic\": key, \"unique_words\": unique_words}, ignore_index=True)\n",
            "<ipython-input-310-6796c2096760>:3: FutureWarning: The frame.append method is deprecated and will be removed from pandas in a future version. Use pandas.concat instead.\n",
            "  vocabulary_df = vocabulary_df.append({\"topic\": key, \"unique_words\": unique_words}, ignore_index=True)\n",
            "<ipython-input-310-6796c2096760>:3: FutureWarning: The frame.append method is deprecated and will be removed from pandas in a future version. Use pandas.concat instead.\n",
            "  vocabulary_df = vocabulary_df.append({\"topic\": key, \"unique_words\": unique_words}, ignore_index=True)\n",
            "<ipython-input-310-6796c2096760>:3: FutureWarning: The frame.append method is deprecated and will be removed from pandas in a future version. Use pandas.concat instead.\n",
            "  vocabulary_df = vocabulary_df.append({\"topic\": key, \"unique_words\": unique_words}, ignore_index=True)\n",
            "<ipython-input-310-6796c2096760>:3: FutureWarning: The frame.append method is deprecated and will be removed from pandas in a future version. Use pandas.concat instead.\n",
            "  vocabulary_df = vocabulary_df.append({\"topic\": key, \"unique_words\": unique_words}, ignore_index=True)\n",
            "<ipython-input-310-6796c2096760>:3: FutureWarning: The frame.append method is deprecated and will be removed from pandas in a future version. Use pandas.concat instead.\n",
            "  vocabulary_df = vocabulary_df.append({\"topic\": key, \"unique_words\": unique_words}, ignore_index=True)\n",
            "<ipython-input-310-6796c2096760>:3: FutureWarning: The frame.append method is deprecated and will be removed from pandas in a future version. Use pandas.concat instead.\n",
            "  vocabulary_df = vocabulary_df.append({\"topic\": key, \"unique_words\": unique_words}, ignore_index=True)\n",
            "<ipython-input-310-6796c2096760>:3: FutureWarning: The frame.append method is deprecated and will be removed from pandas in a future version. Use pandas.concat instead.\n",
            "  vocabulary_df = vocabulary_df.append({\"topic\": key, \"unique_words\": unique_words}, ignore_index=True)\n",
            "<ipython-input-310-6796c2096760>:3: FutureWarning: The frame.append method is deprecated and will be removed from pandas in a future version. Use pandas.concat instead.\n",
            "  vocabulary_df = vocabulary_df.append({\"topic\": key, \"unique_words\": unique_words}, ignore_index=True)\n",
            "<ipython-input-310-6796c2096760>:3: FutureWarning: The frame.append method is deprecated and will be removed from pandas in a future version. Use pandas.concat instead.\n",
            "  vocabulary_df = vocabulary_df.append({\"topic\": key, \"unique_words\": unique_words}, ignore_index=True)\n",
            "<ipython-input-310-6796c2096760>:3: FutureWarning: The frame.append method is deprecated and will be removed from pandas in a future version. Use pandas.concat instead.\n",
            "  vocabulary_df = vocabulary_df.append({\"topic\": key, \"unique_words\": unique_words}, ignore_index=True)\n",
            "<ipython-input-310-6796c2096760>:3: FutureWarning: The frame.append method is deprecated and will be removed from pandas in a future version. Use pandas.concat instead.\n",
            "  vocabulary_df = vocabulary_df.append({\"topic\": key, \"unique_words\": unique_words}, ignore_index=True)\n",
            "<ipython-input-310-6796c2096760>:3: FutureWarning: The frame.append method is deprecated and will be removed from pandas in a future version. Use pandas.concat instead.\n",
            "  vocabulary_df = vocabulary_df.append({\"topic\": key, \"unique_words\": unique_words}, ignore_index=True)\n",
            "<ipython-input-310-6796c2096760>:3: FutureWarning: The frame.append method is deprecated and will be removed from pandas in a future version. Use pandas.concat instead.\n",
            "  vocabulary_df = vocabulary_df.append({\"topic\": key, \"unique_words\": unique_words}, ignore_index=True)\n",
            "<ipython-input-310-6796c2096760>:3: FutureWarning: The frame.append method is deprecated and will be removed from pandas in a future version. Use pandas.concat instead.\n",
            "  vocabulary_df = vocabulary_df.append({\"topic\": key, \"unique_words\": unique_words}, ignore_index=True)\n",
            "<ipython-input-310-6796c2096760>:3: FutureWarning: The frame.append method is deprecated and will be removed from pandas in a future version. Use pandas.concat instead.\n",
            "  vocabulary_df = vocabulary_df.append({\"topic\": key, \"unique_words\": unique_words}, ignore_index=True)\n",
            "<ipython-input-310-6796c2096760>:3: FutureWarning: The frame.append method is deprecated and will be removed from pandas in a future version. Use pandas.concat instead.\n",
            "  vocabulary_df = vocabulary_df.append({\"topic\": key, \"unique_words\": unique_words}, ignore_index=True)\n",
            "<ipython-input-310-6796c2096760>:3: FutureWarning: The frame.append method is deprecated and will be removed from pandas in a future version. Use pandas.concat instead.\n",
            "  vocabulary_df = vocabulary_df.append({\"topic\": key, \"unique_words\": unique_words}, ignore_index=True)\n",
            "<ipython-input-310-6796c2096760>:3: FutureWarning: The frame.append method is deprecated and will be removed from pandas in a future version. Use pandas.concat instead.\n",
            "  vocabulary_df = vocabulary_df.append({\"topic\": key, \"unique_words\": unique_words}, ignore_index=True)\n",
            "<ipython-input-310-6796c2096760>:3: FutureWarning: The frame.append method is deprecated and will be removed from pandas in a future version. Use pandas.concat instead.\n",
            "  vocabulary_df = vocabulary_df.append({\"topic\": key, \"unique_words\": unique_words}, ignore_index=True)\n",
            "<ipython-input-310-6796c2096760>:3: FutureWarning: The frame.append method is deprecated and will be removed from pandas in a future version. Use pandas.concat instead.\n",
            "  vocabulary_df = vocabulary_df.append({\"topic\": key, \"unique_words\": unique_words}, ignore_index=True)\n",
            "<ipython-input-310-6796c2096760>:3: FutureWarning: The frame.append method is deprecated and will be removed from pandas in a future version. Use pandas.concat instead.\n",
            "  vocabulary_df = vocabulary_df.append({\"topic\": key, \"unique_words\": unique_words}, ignore_index=True)\n",
            "<ipython-input-310-6796c2096760>:3: FutureWarning: The frame.append method is deprecated and will be removed from pandas in a future version. Use pandas.concat instead.\n",
            "  vocabulary_df = vocabulary_df.append({\"topic\": key, \"unique_words\": unique_words}, ignore_index=True)\n",
            "<ipython-input-310-6796c2096760>:3: FutureWarning: The frame.append method is deprecated and will be removed from pandas in a future version. Use pandas.concat instead.\n",
            "  vocabulary_df = vocabulary_df.append({\"topic\": key, \"unique_words\": unique_words}, ignore_index=True)\n",
            "<ipython-input-310-6796c2096760>:3: FutureWarning: The frame.append method is deprecated and will be removed from pandas in a future version. Use pandas.concat instead.\n",
            "  vocabulary_df = vocabulary_df.append({\"topic\": key, \"unique_words\": unique_words}, ignore_index=True)\n",
            "<ipython-input-310-6796c2096760>:3: FutureWarning: The frame.append method is deprecated and will be removed from pandas in a future version. Use pandas.concat instead.\n",
            "  vocabulary_df = vocabulary_df.append({\"topic\": key, \"unique_words\": unique_words}, ignore_index=True)\n",
            "<ipython-input-310-6796c2096760>:3: FutureWarning: The frame.append method is deprecated and will be removed from pandas in a future version. Use pandas.concat instead.\n",
            "  vocabulary_df = vocabulary_df.append({\"topic\": key, \"unique_words\": unique_words}, ignore_index=True)\n",
            "<ipython-input-310-6796c2096760>:3: FutureWarning: The frame.append method is deprecated and will be removed from pandas in a future version. Use pandas.concat instead.\n",
            "  vocabulary_df = vocabulary_df.append({\"topic\": key, \"unique_words\": unique_words}, ignore_index=True)\n",
            "<ipython-input-310-6796c2096760>:3: FutureWarning: The frame.append method is deprecated and will be removed from pandas in a future version. Use pandas.concat instead.\n",
            "  vocabulary_df = vocabulary_df.append({\"topic\": key, \"unique_words\": unique_words}, ignore_index=True)\n",
            "<ipython-input-310-6796c2096760>:3: FutureWarning: The frame.append method is deprecated and will be removed from pandas in a future version. Use pandas.concat instead.\n",
            "  vocabulary_df = vocabulary_df.append({\"topic\": key, \"unique_words\": unique_words}, ignore_index=True)\n",
            "<ipython-input-310-6796c2096760>:3: FutureWarning: The frame.append method is deprecated and will be removed from pandas in a future version. Use pandas.concat instead.\n",
            "  vocabulary_df = vocabulary_df.append({\"topic\": key, \"unique_words\": unique_words}, ignore_index=True)\n",
            "<ipython-input-310-6796c2096760>:3: FutureWarning: The frame.append method is deprecated and will be removed from pandas in a future version. Use pandas.concat instead.\n",
            "  vocabulary_df = vocabulary_df.append({\"topic\": key, \"unique_words\": unique_words}, ignore_index=True)\n",
            "<ipython-input-310-6796c2096760>:3: FutureWarning: The frame.append method is deprecated and will be removed from pandas in a future version. Use pandas.concat instead.\n",
            "  vocabulary_df = vocabulary_df.append({\"topic\": key, \"unique_words\": unique_words}, ignore_index=True)\n",
            "<ipython-input-310-6796c2096760>:3: FutureWarning: The frame.append method is deprecated and will be removed from pandas in a future version. Use pandas.concat instead.\n",
            "  vocabulary_df = vocabulary_df.append({\"topic\": key, \"unique_words\": unique_words}, ignore_index=True)\n",
            "<ipython-input-310-6796c2096760>:3: FutureWarning: The frame.append method is deprecated and will be removed from pandas in a future version. Use pandas.concat instead.\n",
            "  vocabulary_df = vocabulary_df.append({\"topic\": key, \"unique_words\": unique_words}, ignore_index=True)\n",
            "<ipython-input-310-6796c2096760>:3: FutureWarning: The frame.append method is deprecated and will be removed from pandas in a future version. Use pandas.concat instead.\n",
            "  vocabulary_df = vocabulary_df.append({\"topic\": key, \"unique_words\": unique_words}, ignore_index=True)\n",
            "<ipython-input-310-6796c2096760>:3: FutureWarning: The frame.append method is deprecated and will be removed from pandas in a future version. Use pandas.concat instead.\n",
            "  vocabulary_df = vocabulary_df.append({\"topic\": key, \"unique_words\": unique_words}, ignore_index=True)\n",
            "<ipython-input-310-6796c2096760>:3: FutureWarning: The frame.append method is deprecated and will be removed from pandas in a future version. Use pandas.concat instead.\n",
            "  vocabulary_df = vocabulary_df.append({\"topic\": key, \"unique_words\": unique_words}, ignore_index=True)\n",
            "<ipython-input-310-6796c2096760>:3: FutureWarning: The frame.append method is deprecated and will be removed from pandas in a future version. Use pandas.concat instead.\n",
            "  vocabulary_df = vocabulary_df.append({\"topic\": key, \"unique_words\": unique_words}, ignore_index=True)\n",
            "<ipython-input-310-6796c2096760>:3: FutureWarning: The frame.append method is deprecated and will be removed from pandas in a future version. Use pandas.concat instead.\n",
            "  vocabulary_df = vocabulary_df.append({\"topic\": key, \"unique_words\": unique_words}, ignore_index=True)\n",
            "<ipython-input-310-6796c2096760>:3: FutureWarning: The frame.append method is deprecated and will be removed from pandas in a future version. Use pandas.concat instead.\n",
            "  vocabulary_df = vocabulary_df.append({\"topic\": key, \"unique_words\": unique_words}, ignore_index=True)\n",
            "<ipython-input-310-6796c2096760>:3: FutureWarning: The frame.append method is deprecated and will be removed from pandas in a future version. Use pandas.concat instead.\n",
            "  vocabulary_df = vocabulary_df.append({\"topic\": key, \"unique_words\": unique_words}, ignore_index=True)\n",
            "<ipython-input-310-6796c2096760>:3: FutureWarning: The frame.append method is deprecated and will be removed from pandas in a future version. Use pandas.concat instead.\n",
            "  vocabulary_df = vocabulary_df.append({\"topic\": key, \"unique_words\": unique_words}, ignore_index=True)\n",
            "<ipython-input-310-6796c2096760>:3: FutureWarning: The frame.append method is deprecated and will be removed from pandas in a future version. Use pandas.concat instead.\n",
            "  vocabulary_df = vocabulary_df.append({\"topic\": key, \"unique_words\": unique_words}, ignore_index=True)\n",
            "<ipython-input-310-6796c2096760>:3: FutureWarning: The frame.append method is deprecated and will be removed from pandas in a future version. Use pandas.concat instead.\n",
            "  vocabulary_df = vocabulary_df.append({\"topic\": key, \"unique_words\": unique_words}, ignore_index=True)\n",
            "<ipython-input-310-6796c2096760>:3: FutureWarning: The frame.append method is deprecated and will be removed from pandas in a future version. Use pandas.concat instead.\n",
            "  vocabulary_df = vocabulary_df.append({\"topic\": key, \"unique_words\": unique_words}, ignore_index=True)\n",
            "<ipython-input-310-6796c2096760>:3: FutureWarning: The frame.append method is deprecated and will be removed from pandas in a future version. Use pandas.concat instead.\n",
            "  vocabulary_df = vocabulary_df.append({\"topic\": key, \"unique_words\": unique_words}, ignore_index=True)\n",
            "<ipython-input-310-6796c2096760>:3: FutureWarning: The frame.append method is deprecated and will be removed from pandas in a future version. Use pandas.concat instead.\n",
            "  vocabulary_df = vocabulary_df.append({\"topic\": key, \"unique_words\": unique_words}, ignore_index=True)\n",
            "<ipython-input-310-6796c2096760>:3: FutureWarning: The frame.append method is deprecated and will be removed from pandas in a future version. Use pandas.concat instead.\n",
            "  vocabulary_df = vocabulary_df.append({\"topic\": key, \"unique_words\": unique_words}, ignore_index=True)\n",
            "<ipython-input-310-6796c2096760>:3: FutureWarning: The frame.append method is deprecated and will be removed from pandas in a future version. Use pandas.concat instead.\n",
            "  vocabulary_df = vocabulary_df.append({\"topic\": key, \"unique_words\": unique_words}, ignore_index=True)\n",
            "<ipython-input-310-6796c2096760>:3: FutureWarning: The frame.append method is deprecated and will be removed from pandas in a future version. Use pandas.concat instead.\n",
            "  vocabulary_df = vocabulary_df.append({\"topic\": key, \"unique_words\": unique_words}, ignore_index=True)\n",
            "<ipython-input-310-6796c2096760>:3: FutureWarning: The frame.append method is deprecated and will be removed from pandas in a future version. Use pandas.concat instead.\n",
            "  vocabulary_df = vocabulary_df.append({\"topic\": key, \"unique_words\": unique_words}, ignore_index=True)\n",
            "<ipython-input-310-6796c2096760>:3: FutureWarning: The frame.append method is deprecated and will be removed from pandas in a future version. Use pandas.concat instead.\n",
            "  vocabulary_df = vocabulary_df.append({\"topic\": key, \"unique_words\": unique_words}, ignore_index=True)\n",
            "<ipython-input-310-6796c2096760>:3: FutureWarning: The frame.append method is deprecated and will be removed from pandas in a future version. Use pandas.concat instead.\n",
            "  vocabulary_df = vocabulary_df.append({\"topic\": key, \"unique_words\": unique_words}, ignore_index=True)\n",
            "<ipython-input-310-6796c2096760>:3: FutureWarning: The frame.append method is deprecated and will be removed from pandas in a future version. Use pandas.concat instead.\n",
            "  vocabulary_df = vocabulary_df.append({\"topic\": key, \"unique_words\": unique_words}, ignore_index=True)\n",
            "<ipython-input-310-6796c2096760>:3: FutureWarning: The frame.append method is deprecated and will be removed from pandas in a future version. Use pandas.concat instead.\n",
            "  vocabulary_df = vocabulary_df.append({\"topic\": key, \"unique_words\": unique_words}, ignore_index=True)\n",
            "<ipython-input-310-6796c2096760>:3: FutureWarning: The frame.append method is deprecated and will be removed from pandas in a future version. Use pandas.concat instead.\n",
            "  vocabulary_df = vocabulary_df.append({\"topic\": key, \"unique_words\": unique_words}, ignore_index=True)\n",
            "<ipython-input-310-6796c2096760>:3: FutureWarning: The frame.append method is deprecated and will be removed from pandas in a future version. Use pandas.concat instead.\n",
            "  vocabulary_df = vocabulary_df.append({\"topic\": key, \"unique_words\": unique_words}, ignore_index=True)\n",
            "<ipython-input-310-6796c2096760>:3: FutureWarning: The frame.append method is deprecated and will be removed from pandas in a future version. Use pandas.concat instead.\n",
            "  vocabulary_df = vocabulary_df.append({\"topic\": key, \"unique_words\": unique_words}, ignore_index=True)\n",
            "<ipython-input-310-6796c2096760>:3: FutureWarning: The frame.append method is deprecated and will be removed from pandas in a future version. Use pandas.concat instead.\n",
            "  vocabulary_df = vocabulary_df.append({\"topic\": key, \"unique_words\": unique_words}, ignore_index=True)\n",
            "<ipython-input-310-6796c2096760>:3: FutureWarning: The frame.append method is deprecated and will be removed from pandas in a future version. Use pandas.concat instead.\n",
            "  vocabulary_df = vocabulary_df.append({\"topic\": key, \"unique_words\": unique_words}, ignore_index=True)\n",
            "<ipython-input-310-6796c2096760>:3: FutureWarning: The frame.append method is deprecated and will be removed from pandas in a future version. Use pandas.concat instead.\n",
            "  vocabulary_df = vocabulary_df.append({\"topic\": key, \"unique_words\": unique_words}, ignore_index=True)\n",
            "<ipython-input-310-6796c2096760>:3: FutureWarning: The frame.append method is deprecated and will be removed from pandas in a future version. Use pandas.concat instead.\n",
            "  vocabulary_df = vocabulary_df.append({\"topic\": key, \"unique_words\": unique_words}, ignore_index=True)\n",
            "<ipython-input-310-6796c2096760>:3: FutureWarning: The frame.append method is deprecated and will be removed from pandas in a future version. Use pandas.concat instead.\n",
            "  vocabulary_df = vocabulary_df.append({\"topic\": key, \"unique_words\": unique_words}, ignore_index=True)\n",
            "<ipython-input-310-6796c2096760>:3: FutureWarning: The frame.append method is deprecated and will be removed from pandas in a future version. Use pandas.concat instead.\n",
            "  vocabulary_df = vocabulary_df.append({\"topic\": key, \"unique_words\": unique_words}, ignore_index=True)\n",
            "<ipython-input-310-6796c2096760>:3: FutureWarning: The frame.append method is deprecated and will be removed from pandas in a future version. Use pandas.concat instead.\n",
            "  vocabulary_df = vocabulary_df.append({\"topic\": key, \"unique_words\": unique_words}, ignore_index=True)\n",
            "<ipython-input-310-6796c2096760>:3: FutureWarning: The frame.append method is deprecated and will be removed from pandas in a future version. Use pandas.concat instead.\n",
            "  vocabulary_df = vocabulary_df.append({\"topic\": key, \"unique_words\": unique_words}, ignore_index=True)\n",
            "<ipython-input-310-6796c2096760>:3: FutureWarning: The frame.append method is deprecated and will be removed from pandas in a future version. Use pandas.concat instead.\n",
            "  vocabulary_df = vocabulary_df.append({\"topic\": key, \"unique_words\": unique_words}, ignore_index=True)\n",
            "<ipython-input-310-6796c2096760>:3: FutureWarning: The frame.append method is deprecated and will be removed from pandas in a future version. Use pandas.concat instead.\n",
            "  vocabulary_df = vocabulary_df.append({\"topic\": key, \"unique_words\": unique_words}, ignore_index=True)\n",
            "<ipython-input-310-6796c2096760>:3: FutureWarning: The frame.append method is deprecated and will be removed from pandas in a future version. Use pandas.concat instead.\n",
            "  vocabulary_df = vocabulary_df.append({\"topic\": key, \"unique_words\": unique_words}, ignore_index=True)\n",
            "<ipython-input-310-6796c2096760>:3: FutureWarning: The frame.append method is deprecated and will be removed from pandas in a future version. Use pandas.concat instead.\n",
            "  vocabulary_df = vocabulary_df.append({\"topic\": key, \"unique_words\": unique_words}, ignore_index=True)\n",
            "<ipython-input-310-6796c2096760>:3: FutureWarning: The frame.append method is deprecated and will be removed from pandas in a future version. Use pandas.concat instead.\n",
            "  vocabulary_df = vocabulary_df.append({\"topic\": key, \"unique_words\": unique_words}, ignore_index=True)\n",
            "<ipython-input-310-6796c2096760>:3: FutureWarning: The frame.append method is deprecated and will be removed from pandas in a future version. Use pandas.concat instead.\n",
            "  vocabulary_df = vocabulary_df.append({\"topic\": key, \"unique_words\": unique_words}, ignore_index=True)\n",
            "<ipython-input-310-6796c2096760>:3: FutureWarning: The frame.append method is deprecated and will be removed from pandas in a future version. Use pandas.concat instead.\n",
            "  vocabulary_df = vocabulary_df.append({\"topic\": key, \"unique_words\": unique_words}, ignore_index=True)\n"
          ]
        }
      ]
    },
    {
      "cell_type": "markdown",
      "source": [
        "**readability.csv Creation**"
      ],
      "metadata": {
        "id": "cL9xkx1sSf2u"
      }
    },
    {
      "cell_type": "code",
      "source": [
        "page_dictionary = {}\n",
        "readability_dictionary= {}\n",
        "\n",
        "for topic in topics:\n",
        "  page_lvl= wiki.page(topic)\n",
        "  if page.exists():\n",
        "    page_dictionary[page_lvl.title]=page_lvl.text"
      ],
      "metadata": {
        "id": "AorROYVCVexd"
      },
      "execution_count": null,
      "outputs": []
    },
    {
      "cell_type": "code",
      "source": [
        "# Assuming page_dictionary contains the content of the Wikipedia page \"Domain adaptation\"\n",
        "lvl = textstat.flesch_kincaid_grade(page_dictionary[\"Domain adaptation\"])\n",
        "lvl"
      ],
      "metadata": {
        "colab": {
          "base_uri": "https://localhost:8080/"
        },
        "id": "cSNbMVFDWOin",
        "outputId": "5764b60b-20a3-4c19-b12b-801b40c64095"
      },
      "execution_count": null,
      "outputs": [
        {
          "output_type": "execute_result",
          "data": {
            "text/plain": [
              "13.2"
            ]
          },
          "metadata": {},
          "execution_count": 312
        }
      ]
    },
    {
      "cell_type": "code",
      "source": [
        "grades = []\n",
        "\n",
        "for key in page_dictionary.keys():\n",
        "  grade_level = textstat.flesch_kincaid_grade(page_dictionary[key])\n",
        "  readability_dictionary[key] = grade_level\n",
        "  grades.append(grade_level)\n",
        "\n",
        "grades = np.array(grades)\n",
        "\n",
        "# Calculate the mean grade level for all pages\n",
        "mean_of_grades= np.mean(grades)\n",
        "\n",
        "for key, grade_level in readability_dictionary.items():\n",
        "\n",
        "    # Assign \"easy\" or \"difficult\" based on the mean\n",
        "    if grade_level < 13.5:\n",
        "        readability_df = readability_df.append({\"topic\": key,\"content\": page_dictionary[key],\"cleaned_content\": read_for_tokens[key]  , \"readability\": \"easy\"}, ignore_index=True)\n",
        "    else:\n",
        "         readability_df = readability_df.append({\"topic\": key,\"content\": page_dictionary[key],\"cleaned_content\": read_for_tokens[key]  , \"readability\": \"difficult\"}, ignore_index=True)\n",
        "\n",
        "# Export the contents of the readability_df DataFrame to a CSV file named \"readability.csv\"\n",
        "readability_df.to_csv(\"readability.csv\", index=False)"
      ],
      "metadata": {
        "id": "_3u19ywYSnqU",
        "colab": {
          "base_uri": "https://localhost:8080/"
        },
        "outputId": "637dc201-bcfc-46cc-ec80-1fb742df1c7e"
      },
      "execution_count": null,
      "outputs": [
        {
          "output_type": "stream",
          "name": "stderr",
          "text": [
            "<ipython-input-313-de74925e99f6>:19: FutureWarning: The frame.append method is deprecated and will be removed from pandas in a future version. Use pandas.concat instead.\n",
            "  readability_df = readability_df.append({\"topic\": key,\"content\": page_dictionary[key],\"cleaned_content\": read_for_tokens[key]  , \"readability\": \"difficult\"}, ignore_index=True)\n",
            "<ipython-input-313-de74925e99f6>:17: FutureWarning: The frame.append method is deprecated and will be removed from pandas in a future version. Use pandas.concat instead.\n",
            "  readability_df = readability_df.append({\"topic\": key,\"content\": page_dictionary[key],\"cleaned_content\": read_for_tokens[key]  , \"readability\": \"easy\"}, ignore_index=True)\n",
            "<ipython-input-313-de74925e99f6>:17: FutureWarning: The frame.append method is deprecated and will be removed from pandas in a future version. Use pandas.concat instead.\n",
            "  readability_df = readability_df.append({\"topic\": key,\"content\": page_dictionary[key],\"cleaned_content\": read_for_tokens[key]  , \"readability\": \"easy\"}, ignore_index=True)\n",
            "<ipython-input-313-de74925e99f6>:19: FutureWarning: The frame.append method is deprecated and will be removed from pandas in a future version. Use pandas.concat instead.\n",
            "  readability_df = readability_df.append({\"topic\": key,\"content\": page_dictionary[key],\"cleaned_content\": read_for_tokens[key]  , \"readability\": \"difficult\"}, ignore_index=True)\n",
            "<ipython-input-313-de74925e99f6>:17: FutureWarning: The frame.append method is deprecated and will be removed from pandas in a future version. Use pandas.concat instead.\n",
            "  readability_df = readability_df.append({\"topic\": key,\"content\": page_dictionary[key],\"cleaned_content\": read_for_tokens[key]  , \"readability\": \"easy\"}, ignore_index=True)\n",
            "<ipython-input-313-de74925e99f6>:17: FutureWarning: The frame.append method is deprecated and will be removed from pandas in a future version. Use pandas.concat instead.\n",
            "  readability_df = readability_df.append({\"topic\": key,\"content\": page_dictionary[key],\"cleaned_content\": read_for_tokens[key]  , \"readability\": \"easy\"}, ignore_index=True)\n",
            "<ipython-input-313-de74925e99f6>:17: FutureWarning: The frame.append method is deprecated and will be removed from pandas in a future version. Use pandas.concat instead.\n",
            "  readability_df = readability_df.append({\"topic\": key,\"content\": page_dictionary[key],\"cleaned_content\": read_for_tokens[key]  , \"readability\": \"easy\"}, ignore_index=True)\n",
            "<ipython-input-313-de74925e99f6>:17: FutureWarning: The frame.append method is deprecated and will be removed from pandas in a future version. Use pandas.concat instead.\n",
            "  readability_df = readability_df.append({\"topic\": key,\"content\": page_dictionary[key],\"cleaned_content\": read_for_tokens[key]  , \"readability\": \"easy\"}, ignore_index=True)\n",
            "<ipython-input-313-de74925e99f6>:19: FutureWarning: The frame.append method is deprecated and will be removed from pandas in a future version. Use pandas.concat instead.\n",
            "  readability_df = readability_df.append({\"topic\": key,\"content\": page_dictionary[key],\"cleaned_content\": read_for_tokens[key]  , \"readability\": \"difficult\"}, ignore_index=True)\n",
            "<ipython-input-313-de74925e99f6>:19: FutureWarning: The frame.append method is deprecated and will be removed from pandas in a future version. Use pandas.concat instead.\n",
            "  readability_df = readability_df.append({\"topic\": key,\"content\": page_dictionary[key],\"cleaned_content\": read_for_tokens[key]  , \"readability\": \"difficult\"}, ignore_index=True)\n",
            "<ipython-input-313-de74925e99f6>:17: FutureWarning: The frame.append method is deprecated and will be removed from pandas in a future version. Use pandas.concat instead.\n",
            "  readability_df = readability_df.append({\"topic\": key,\"content\": page_dictionary[key],\"cleaned_content\": read_for_tokens[key]  , \"readability\": \"easy\"}, ignore_index=True)\n",
            "<ipython-input-313-de74925e99f6>:19: FutureWarning: The frame.append method is deprecated and will be removed from pandas in a future version. Use pandas.concat instead.\n",
            "  readability_df = readability_df.append({\"topic\": key,\"content\": page_dictionary[key],\"cleaned_content\": read_for_tokens[key]  , \"readability\": \"difficult\"}, ignore_index=True)\n",
            "<ipython-input-313-de74925e99f6>:19: FutureWarning: The frame.append method is deprecated and will be removed from pandas in a future version. Use pandas.concat instead.\n",
            "  readability_df = readability_df.append({\"topic\": key,\"content\": page_dictionary[key],\"cleaned_content\": read_for_tokens[key]  , \"readability\": \"difficult\"}, ignore_index=True)\n",
            "<ipython-input-313-de74925e99f6>:19: FutureWarning: The frame.append method is deprecated and will be removed from pandas in a future version. Use pandas.concat instead.\n",
            "  readability_df = readability_df.append({\"topic\": key,\"content\": page_dictionary[key],\"cleaned_content\": read_for_tokens[key]  , \"readability\": \"difficult\"}, ignore_index=True)\n",
            "<ipython-input-313-de74925e99f6>:19: FutureWarning: The frame.append method is deprecated and will be removed from pandas in a future version. Use pandas.concat instead.\n",
            "  readability_df = readability_df.append({\"topic\": key,\"content\": page_dictionary[key],\"cleaned_content\": read_for_tokens[key]  , \"readability\": \"difficult\"}, ignore_index=True)\n",
            "<ipython-input-313-de74925e99f6>:19: FutureWarning: The frame.append method is deprecated and will be removed from pandas in a future version. Use pandas.concat instead.\n",
            "  readability_df = readability_df.append({\"topic\": key,\"content\": page_dictionary[key],\"cleaned_content\": read_for_tokens[key]  , \"readability\": \"difficult\"}, ignore_index=True)\n",
            "<ipython-input-313-de74925e99f6>:17: FutureWarning: The frame.append method is deprecated and will be removed from pandas in a future version. Use pandas.concat instead.\n",
            "  readability_df = readability_df.append({\"topic\": key,\"content\": page_dictionary[key],\"cleaned_content\": read_for_tokens[key]  , \"readability\": \"easy\"}, ignore_index=True)\n",
            "<ipython-input-313-de74925e99f6>:17: FutureWarning: The frame.append method is deprecated and will be removed from pandas in a future version. Use pandas.concat instead.\n",
            "  readability_df = readability_df.append({\"topic\": key,\"content\": page_dictionary[key],\"cleaned_content\": read_for_tokens[key]  , \"readability\": \"easy\"}, ignore_index=True)\n",
            "<ipython-input-313-de74925e99f6>:19: FutureWarning: The frame.append method is deprecated and will be removed from pandas in a future version. Use pandas.concat instead.\n",
            "  readability_df = readability_df.append({\"topic\": key,\"content\": page_dictionary[key],\"cleaned_content\": read_for_tokens[key]  , \"readability\": \"difficult\"}, ignore_index=True)\n",
            "<ipython-input-313-de74925e99f6>:17: FutureWarning: The frame.append method is deprecated and will be removed from pandas in a future version. Use pandas.concat instead.\n",
            "  readability_df = readability_df.append({\"topic\": key,\"content\": page_dictionary[key],\"cleaned_content\": read_for_tokens[key]  , \"readability\": \"easy\"}, ignore_index=True)\n",
            "<ipython-input-313-de74925e99f6>:19: FutureWarning: The frame.append method is deprecated and will be removed from pandas in a future version. Use pandas.concat instead.\n",
            "  readability_df = readability_df.append({\"topic\": key,\"content\": page_dictionary[key],\"cleaned_content\": read_for_tokens[key]  , \"readability\": \"difficult\"}, ignore_index=True)\n",
            "<ipython-input-313-de74925e99f6>:17: FutureWarning: The frame.append method is deprecated and will be removed from pandas in a future version. Use pandas.concat instead.\n",
            "  readability_df = readability_df.append({\"topic\": key,\"content\": page_dictionary[key],\"cleaned_content\": read_for_tokens[key]  , \"readability\": \"easy\"}, ignore_index=True)\n",
            "<ipython-input-313-de74925e99f6>:17: FutureWarning: The frame.append method is deprecated and will be removed from pandas in a future version. Use pandas.concat instead.\n",
            "  readability_df = readability_df.append({\"topic\": key,\"content\": page_dictionary[key],\"cleaned_content\": read_for_tokens[key]  , \"readability\": \"easy\"}, ignore_index=True)\n",
            "<ipython-input-313-de74925e99f6>:19: FutureWarning: The frame.append method is deprecated and will be removed from pandas in a future version. Use pandas.concat instead.\n",
            "  readability_df = readability_df.append({\"topic\": key,\"content\": page_dictionary[key],\"cleaned_content\": read_for_tokens[key]  , \"readability\": \"difficult\"}, ignore_index=True)\n",
            "<ipython-input-313-de74925e99f6>:17: FutureWarning: The frame.append method is deprecated and will be removed from pandas in a future version. Use pandas.concat instead.\n",
            "  readability_df = readability_df.append({\"topic\": key,\"content\": page_dictionary[key],\"cleaned_content\": read_for_tokens[key]  , \"readability\": \"easy\"}, ignore_index=True)\n",
            "<ipython-input-313-de74925e99f6>:19: FutureWarning: The frame.append method is deprecated and will be removed from pandas in a future version. Use pandas.concat instead.\n",
            "  readability_df = readability_df.append({\"topic\": key,\"content\": page_dictionary[key],\"cleaned_content\": read_for_tokens[key]  , \"readability\": \"difficult\"}, ignore_index=True)\n",
            "<ipython-input-313-de74925e99f6>:19: FutureWarning: The frame.append method is deprecated and will be removed from pandas in a future version. Use pandas.concat instead.\n",
            "  readability_df = readability_df.append({\"topic\": key,\"content\": page_dictionary[key],\"cleaned_content\": read_for_tokens[key]  , \"readability\": \"difficult\"}, ignore_index=True)\n",
            "<ipython-input-313-de74925e99f6>:17: FutureWarning: The frame.append method is deprecated and will be removed from pandas in a future version. Use pandas.concat instead.\n",
            "  readability_df = readability_df.append({\"topic\": key,\"content\": page_dictionary[key],\"cleaned_content\": read_for_tokens[key]  , \"readability\": \"easy\"}, ignore_index=True)\n",
            "<ipython-input-313-de74925e99f6>:19: FutureWarning: The frame.append method is deprecated and will be removed from pandas in a future version. Use pandas.concat instead.\n",
            "  readability_df = readability_df.append({\"topic\": key,\"content\": page_dictionary[key],\"cleaned_content\": read_for_tokens[key]  , \"readability\": \"difficult\"}, ignore_index=True)\n",
            "<ipython-input-313-de74925e99f6>:19: FutureWarning: The frame.append method is deprecated and will be removed from pandas in a future version. Use pandas.concat instead.\n",
            "  readability_df = readability_df.append({\"topic\": key,\"content\": page_dictionary[key],\"cleaned_content\": read_for_tokens[key]  , \"readability\": \"difficult\"}, ignore_index=True)\n",
            "<ipython-input-313-de74925e99f6>:19: FutureWarning: The frame.append method is deprecated and will be removed from pandas in a future version. Use pandas.concat instead.\n",
            "  readability_df = readability_df.append({\"topic\": key,\"content\": page_dictionary[key],\"cleaned_content\": read_for_tokens[key]  , \"readability\": \"difficult\"}, ignore_index=True)\n",
            "<ipython-input-313-de74925e99f6>:17: FutureWarning: The frame.append method is deprecated and will be removed from pandas in a future version. Use pandas.concat instead.\n",
            "  readability_df = readability_df.append({\"topic\": key,\"content\": page_dictionary[key],\"cleaned_content\": read_for_tokens[key]  , \"readability\": \"easy\"}, ignore_index=True)\n",
            "<ipython-input-313-de74925e99f6>:17: FutureWarning: The frame.append method is deprecated and will be removed from pandas in a future version. Use pandas.concat instead.\n",
            "  readability_df = readability_df.append({\"topic\": key,\"content\": page_dictionary[key],\"cleaned_content\": read_for_tokens[key]  , \"readability\": \"easy\"}, ignore_index=True)\n",
            "<ipython-input-313-de74925e99f6>:17: FutureWarning: The frame.append method is deprecated and will be removed from pandas in a future version. Use pandas.concat instead.\n",
            "  readability_df = readability_df.append({\"topic\": key,\"content\": page_dictionary[key],\"cleaned_content\": read_for_tokens[key]  , \"readability\": \"easy\"}, ignore_index=True)\n",
            "<ipython-input-313-de74925e99f6>:19: FutureWarning: The frame.append method is deprecated and will be removed from pandas in a future version. Use pandas.concat instead.\n",
            "  readability_df = readability_df.append({\"topic\": key,\"content\": page_dictionary[key],\"cleaned_content\": read_for_tokens[key]  , \"readability\": \"difficult\"}, ignore_index=True)\n",
            "<ipython-input-313-de74925e99f6>:19: FutureWarning: The frame.append method is deprecated and will be removed from pandas in a future version. Use pandas.concat instead.\n",
            "  readability_df = readability_df.append({\"topic\": key,\"content\": page_dictionary[key],\"cleaned_content\": read_for_tokens[key]  , \"readability\": \"difficult\"}, ignore_index=True)\n",
            "<ipython-input-313-de74925e99f6>:17: FutureWarning: The frame.append method is deprecated and will be removed from pandas in a future version. Use pandas.concat instead.\n",
            "  readability_df = readability_df.append({\"topic\": key,\"content\": page_dictionary[key],\"cleaned_content\": read_for_tokens[key]  , \"readability\": \"easy\"}, ignore_index=True)\n",
            "<ipython-input-313-de74925e99f6>:19: FutureWarning: The frame.append method is deprecated and will be removed from pandas in a future version. Use pandas.concat instead.\n",
            "  readability_df = readability_df.append({\"topic\": key,\"content\": page_dictionary[key],\"cleaned_content\": read_for_tokens[key]  , \"readability\": \"difficult\"}, ignore_index=True)\n",
            "<ipython-input-313-de74925e99f6>:19: FutureWarning: The frame.append method is deprecated and will be removed from pandas in a future version. Use pandas.concat instead.\n",
            "  readability_df = readability_df.append({\"topic\": key,\"content\": page_dictionary[key],\"cleaned_content\": read_for_tokens[key]  , \"readability\": \"difficult\"}, ignore_index=True)\n",
            "<ipython-input-313-de74925e99f6>:19: FutureWarning: The frame.append method is deprecated and will be removed from pandas in a future version. Use pandas.concat instead.\n",
            "  readability_df = readability_df.append({\"topic\": key,\"content\": page_dictionary[key],\"cleaned_content\": read_for_tokens[key]  , \"readability\": \"difficult\"}, ignore_index=True)\n",
            "<ipython-input-313-de74925e99f6>:17: FutureWarning: The frame.append method is deprecated and will be removed from pandas in a future version. Use pandas.concat instead.\n",
            "  readability_df = readability_df.append({\"topic\": key,\"content\": page_dictionary[key],\"cleaned_content\": read_for_tokens[key]  , \"readability\": \"easy\"}, ignore_index=True)\n",
            "<ipython-input-313-de74925e99f6>:19: FutureWarning: The frame.append method is deprecated and will be removed from pandas in a future version. Use pandas.concat instead.\n",
            "  readability_df = readability_df.append({\"topic\": key,\"content\": page_dictionary[key],\"cleaned_content\": read_for_tokens[key]  , \"readability\": \"difficult\"}, ignore_index=True)\n",
            "<ipython-input-313-de74925e99f6>:17: FutureWarning: The frame.append method is deprecated and will be removed from pandas in a future version. Use pandas.concat instead.\n",
            "  readability_df = readability_df.append({\"topic\": key,\"content\": page_dictionary[key],\"cleaned_content\": read_for_tokens[key]  , \"readability\": \"easy\"}, ignore_index=True)\n",
            "<ipython-input-313-de74925e99f6>:17: FutureWarning: The frame.append method is deprecated and will be removed from pandas in a future version. Use pandas.concat instead.\n",
            "  readability_df = readability_df.append({\"topic\": key,\"content\": page_dictionary[key],\"cleaned_content\": read_for_tokens[key]  , \"readability\": \"easy\"}, ignore_index=True)\n",
            "<ipython-input-313-de74925e99f6>:17: FutureWarning: The frame.append method is deprecated and will be removed from pandas in a future version. Use pandas.concat instead.\n",
            "  readability_df = readability_df.append({\"topic\": key,\"content\": page_dictionary[key],\"cleaned_content\": read_for_tokens[key]  , \"readability\": \"easy\"}, ignore_index=True)\n",
            "<ipython-input-313-de74925e99f6>:19: FutureWarning: The frame.append method is deprecated and will be removed from pandas in a future version. Use pandas.concat instead.\n",
            "  readability_df = readability_df.append({\"topic\": key,\"content\": page_dictionary[key],\"cleaned_content\": read_for_tokens[key]  , \"readability\": \"difficult\"}, ignore_index=True)\n",
            "<ipython-input-313-de74925e99f6>:17: FutureWarning: The frame.append method is deprecated and will be removed from pandas in a future version. Use pandas.concat instead.\n",
            "  readability_df = readability_df.append({\"topic\": key,\"content\": page_dictionary[key],\"cleaned_content\": read_for_tokens[key]  , \"readability\": \"easy\"}, ignore_index=True)\n",
            "<ipython-input-313-de74925e99f6>:17: FutureWarning: The frame.append method is deprecated and will be removed from pandas in a future version. Use pandas.concat instead.\n",
            "  readability_df = readability_df.append({\"topic\": key,\"content\": page_dictionary[key],\"cleaned_content\": read_for_tokens[key]  , \"readability\": \"easy\"}, ignore_index=True)\n",
            "<ipython-input-313-de74925e99f6>:17: FutureWarning: The frame.append method is deprecated and will be removed from pandas in a future version. Use pandas.concat instead.\n",
            "  readability_df = readability_df.append({\"topic\": key,\"content\": page_dictionary[key],\"cleaned_content\": read_for_tokens[key]  , \"readability\": \"easy\"}, ignore_index=True)\n",
            "<ipython-input-313-de74925e99f6>:19: FutureWarning: The frame.append method is deprecated and will be removed from pandas in a future version. Use pandas.concat instead.\n",
            "  readability_df = readability_df.append({\"topic\": key,\"content\": page_dictionary[key],\"cleaned_content\": read_for_tokens[key]  , \"readability\": \"difficult\"}, ignore_index=True)\n",
            "<ipython-input-313-de74925e99f6>:19: FutureWarning: The frame.append method is deprecated and will be removed from pandas in a future version. Use pandas.concat instead.\n",
            "  readability_df = readability_df.append({\"topic\": key,\"content\": page_dictionary[key],\"cleaned_content\": read_for_tokens[key]  , \"readability\": \"difficult\"}, ignore_index=True)\n",
            "<ipython-input-313-de74925e99f6>:19: FutureWarning: The frame.append method is deprecated and will be removed from pandas in a future version. Use pandas.concat instead.\n",
            "  readability_df = readability_df.append({\"topic\": key,\"content\": page_dictionary[key],\"cleaned_content\": read_for_tokens[key]  , \"readability\": \"difficult\"}, ignore_index=True)\n",
            "<ipython-input-313-de74925e99f6>:19: FutureWarning: The frame.append method is deprecated and will be removed from pandas in a future version. Use pandas.concat instead.\n",
            "  readability_df = readability_df.append({\"topic\": key,\"content\": page_dictionary[key],\"cleaned_content\": read_for_tokens[key]  , \"readability\": \"difficult\"}, ignore_index=True)\n",
            "<ipython-input-313-de74925e99f6>:17: FutureWarning: The frame.append method is deprecated and will be removed from pandas in a future version. Use pandas.concat instead.\n",
            "  readability_df = readability_df.append({\"topic\": key,\"content\": page_dictionary[key],\"cleaned_content\": read_for_tokens[key]  , \"readability\": \"easy\"}, ignore_index=True)\n",
            "<ipython-input-313-de74925e99f6>:19: FutureWarning: The frame.append method is deprecated and will be removed from pandas in a future version. Use pandas.concat instead.\n",
            "  readability_df = readability_df.append({\"topic\": key,\"content\": page_dictionary[key],\"cleaned_content\": read_for_tokens[key]  , \"readability\": \"difficult\"}, ignore_index=True)\n",
            "<ipython-input-313-de74925e99f6>:17: FutureWarning: The frame.append method is deprecated and will be removed from pandas in a future version. Use pandas.concat instead.\n",
            "  readability_df = readability_df.append({\"topic\": key,\"content\": page_dictionary[key],\"cleaned_content\": read_for_tokens[key]  , \"readability\": \"easy\"}, ignore_index=True)\n",
            "<ipython-input-313-de74925e99f6>:19: FutureWarning: The frame.append method is deprecated and will be removed from pandas in a future version. Use pandas.concat instead.\n",
            "  readability_df = readability_df.append({\"topic\": key,\"content\": page_dictionary[key],\"cleaned_content\": read_for_tokens[key]  , \"readability\": \"difficult\"}, ignore_index=True)\n",
            "<ipython-input-313-de74925e99f6>:17: FutureWarning: The frame.append method is deprecated and will be removed from pandas in a future version. Use pandas.concat instead.\n",
            "  readability_df = readability_df.append({\"topic\": key,\"content\": page_dictionary[key],\"cleaned_content\": read_for_tokens[key]  , \"readability\": \"easy\"}, ignore_index=True)\n",
            "<ipython-input-313-de74925e99f6>:19: FutureWarning: The frame.append method is deprecated and will be removed from pandas in a future version. Use pandas.concat instead.\n",
            "  readability_df = readability_df.append({\"topic\": key,\"content\": page_dictionary[key],\"cleaned_content\": read_for_tokens[key]  , \"readability\": \"difficult\"}, ignore_index=True)\n",
            "<ipython-input-313-de74925e99f6>:19: FutureWarning: The frame.append method is deprecated and will be removed from pandas in a future version. Use pandas.concat instead.\n",
            "  readability_df = readability_df.append({\"topic\": key,\"content\": page_dictionary[key],\"cleaned_content\": read_for_tokens[key]  , \"readability\": \"difficult\"}, ignore_index=True)\n",
            "<ipython-input-313-de74925e99f6>:19: FutureWarning: The frame.append method is deprecated and will be removed from pandas in a future version. Use pandas.concat instead.\n",
            "  readability_df = readability_df.append({\"topic\": key,\"content\": page_dictionary[key],\"cleaned_content\": read_for_tokens[key]  , \"readability\": \"difficult\"}, ignore_index=True)\n",
            "<ipython-input-313-de74925e99f6>:19: FutureWarning: The frame.append method is deprecated and will be removed from pandas in a future version. Use pandas.concat instead.\n",
            "  readability_df = readability_df.append({\"topic\": key,\"content\": page_dictionary[key],\"cleaned_content\": read_for_tokens[key]  , \"readability\": \"difficult\"}, ignore_index=True)\n",
            "<ipython-input-313-de74925e99f6>:17: FutureWarning: The frame.append method is deprecated and will be removed from pandas in a future version. Use pandas.concat instead.\n",
            "  readability_df = readability_df.append({\"topic\": key,\"content\": page_dictionary[key],\"cleaned_content\": read_for_tokens[key]  , \"readability\": \"easy\"}, ignore_index=True)\n",
            "<ipython-input-313-de74925e99f6>:19: FutureWarning: The frame.append method is deprecated and will be removed from pandas in a future version. Use pandas.concat instead.\n",
            "  readability_df = readability_df.append({\"topic\": key,\"content\": page_dictionary[key],\"cleaned_content\": read_for_tokens[key]  , \"readability\": \"difficult\"}, ignore_index=True)\n",
            "<ipython-input-313-de74925e99f6>:17: FutureWarning: The frame.append method is deprecated and will be removed from pandas in a future version. Use pandas.concat instead.\n",
            "  readability_df = readability_df.append({\"topic\": key,\"content\": page_dictionary[key],\"cleaned_content\": read_for_tokens[key]  , \"readability\": \"easy\"}, ignore_index=True)\n",
            "<ipython-input-313-de74925e99f6>:19: FutureWarning: The frame.append method is deprecated and will be removed from pandas in a future version. Use pandas.concat instead.\n",
            "  readability_df = readability_df.append({\"topic\": key,\"content\": page_dictionary[key],\"cleaned_content\": read_for_tokens[key]  , \"readability\": \"difficult\"}, ignore_index=True)\n",
            "<ipython-input-313-de74925e99f6>:19: FutureWarning: The frame.append method is deprecated and will be removed from pandas in a future version. Use pandas.concat instead.\n",
            "  readability_df = readability_df.append({\"topic\": key,\"content\": page_dictionary[key],\"cleaned_content\": read_for_tokens[key]  , \"readability\": \"difficult\"}, ignore_index=True)\n",
            "<ipython-input-313-de74925e99f6>:19: FutureWarning: The frame.append method is deprecated and will be removed from pandas in a future version. Use pandas.concat instead.\n",
            "  readability_df = readability_df.append({\"topic\": key,\"content\": page_dictionary[key],\"cleaned_content\": read_for_tokens[key]  , \"readability\": \"difficult\"}, ignore_index=True)\n",
            "<ipython-input-313-de74925e99f6>:17: FutureWarning: The frame.append method is deprecated and will be removed from pandas in a future version. Use pandas.concat instead.\n",
            "  readability_df = readability_df.append({\"topic\": key,\"content\": page_dictionary[key],\"cleaned_content\": read_for_tokens[key]  , \"readability\": \"easy\"}, ignore_index=True)\n",
            "<ipython-input-313-de74925e99f6>:17: FutureWarning: The frame.append method is deprecated and will be removed from pandas in a future version. Use pandas.concat instead.\n",
            "  readability_df = readability_df.append({\"topic\": key,\"content\": page_dictionary[key],\"cleaned_content\": read_for_tokens[key]  , \"readability\": \"easy\"}, ignore_index=True)\n",
            "<ipython-input-313-de74925e99f6>:17: FutureWarning: The frame.append method is deprecated and will be removed from pandas in a future version. Use pandas.concat instead.\n",
            "  readability_df = readability_df.append({\"topic\": key,\"content\": page_dictionary[key],\"cleaned_content\": read_for_tokens[key]  , \"readability\": \"easy\"}, ignore_index=True)\n",
            "<ipython-input-313-de74925e99f6>:19: FutureWarning: The frame.append method is deprecated and will be removed from pandas in a future version. Use pandas.concat instead.\n",
            "  readability_df = readability_df.append({\"topic\": key,\"content\": page_dictionary[key],\"cleaned_content\": read_for_tokens[key]  , \"readability\": \"difficult\"}, ignore_index=True)\n",
            "<ipython-input-313-de74925e99f6>:17: FutureWarning: The frame.append method is deprecated and will be removed from pandas in a future version. Use pandas.concat instead.\n",
            "  readability_df = readability_df.append({\"topic\": key,\"content\": page_dictionary[key],\"cleaned_content\": read_for_tokens[key]  , \"readability\": \"easy\"}, ignore_index=True)\n",
            "<ipython-input-313-de74925e99f6>:17: FutureWarning: The frame.append method is deprecated and will be removed from pandas in a future version. Use pandas.concat instead.\n",
            "  readability_df = readability_df.append({\"topic\": key,\"content\": page_dictionary[key],\"cleaned_content\": read_for_tokens[key]  , \"readability\": \"easy\"}, ignore_index=True)\n",
            "<ipython-input-313-de74925e99f6>:17: FutureWarning: The frame.append method is deprecated and will be removed from pandas in a future version. Use pandas.concat instead.\n",
            "  readability_df = readability_df.append({\"topic\": key,\"content\": page_dictionary[key],\"cleaned_content\": read_for_tokens[key]  , \"readability\": \"easy\"}, ignore_index=True)\n",
            "<ipython-input-313-de74925e99f6>:19: FutureWarning: The frame.append method is deprecated and will be removed from pandas in a future version. Use pandas.concat instead.\n",
            "  readability_df = readability_df.append({\"topic\": key,\"content\": page_dictionary[key],\"cleaned_content\": read_for_tokens[key]  , \"readability\": \"difficult\"}, ignore_index=True)\n",
            "<ipython-input-313-de74925e99f6>:19: FutureWarning: The frame.append method is deprecated and will be removed from pandas in a future version. Use pandas.concat instead.\n",
            "  readability_df = readability_df.append({\"topic\": key,\"content\": page_dictionary[key],\"cleaned_content\": read_for_tokens[key]  , \"readability\": \"difficult\"}, ignore_index=True)\n",
            "<ipython-input-313-de74925e99f6>:19: FutureWarning: The frame.append method is deprecated and will be removed from pandas in a future version. Use pandas.concat instead.\n",
            "  readability_df = readability_df.append({\"topic\": key,\"content\": page_dictionary[key],\"cleaned_content\": read_for_tokens[key]  , \"readability\": \"difficult\"}, ignore_index=True)\n",
            "<ipython-input-313-de74925e99f6>:17: FutureWarning: The frame.append method is deprecated and will be removed from pandas in a future version. Use pandas.concat instead.\n",
            "  readability_df = readability_df.append({\"topic\": key,\"content\": page_dictionary[key],\"cleaned_content\": read_for_tokens[key]  , \"readability\": \"easy\"}, ignore_index=True)\n",
            "<ipython-input-313-de74925e99f6>:17: FutureWarning: The frame.append method is deprecated and will be removed from pandas in a future version. Use pandas.concat instead.\n",
            "  readability_df = readability_df.append({\"topic\": key,\"content\": page_dictionary[key],\"cleaned_content\": read_for_tokens[key]  , \"readability\": \"easy\"}, ignore_index=True)\n",
            "<ipython-input-313-de74925e99f6>:17: FutureWarning: The frame.append method is deprecated and will be removed from pandas in a future version. Use pandas.concat instead.\n",
            "  readability_df = readability_df.append({\"topic\": key,\"content\": page_dictionary[key],\"cleaned_content\": read_for_tokens[key]  , \"readability\": \"easy\"}, ignore_index=True)\n",
            "<ipython-input-313-de74925e99f6>:17: FutureWarning: The frame.append method is deprecated and will be removed from pandas in a future version. Use pandas.concat instead.\n",
            "  readability_df = readability_df.append({\"topic\": key,\"content\": page_dictionary[key],\"cleaned_content\": read_for_tokens[key]  , \"readability\": \"easy\"}, ignore_index=True)\n",
            "<ipython-input-313-de74925e99f6>:19: FutureWarning: The frame.append method is deprecated and will be removed from pandas in a future version. Use pandas.concat instead.\n",
            "  readability_df = readability_df.append({\"topic\": key,\"content\": page_dictionary[key],\"cleaned_content\": read_for_tokens[key]  , \"readability\": \"difficult\"}, ignore_index=True)\n",
            "<ipython-input-313-de74925e99f6>:17: FutureWarning: The frame.append method is deprecated and will be removed from pandas in a future version. Use pandas.concat instead.\n",
            "  readability_df = readability_df.append({\"topic\": key,\"content\": page_dictionary[key],\"cleaned_content\": read_for_tokens[key]  , \"readability\": \"easy\"}, ignore_index=True)\n",
            "<ipython-input-313-de74925e99f6>:17: FutureWarning: The frame.append method is deprecated and will be removed from pandas in a future version. Use pandas.concat instead.\n",
            "  readability_df = readability_df.append({\"topic\": key,\"content\": page_dictionary[key],\"cleaned_content\": read_for_tokens[key]  , \"readability\": \"easy\"}, ignore_index=True)\n",
            "<ipython-input-313-de74925e99f6>:17: FutureWarning: The frame.append method is deprecated and will be removed from pandas in a future version. Use pandas.concat instead.\n",
            "  readability_df = readability_df.append({\"topic\": key,\"content\": page_dictionary[key],\"cleaned_content\": read_for_tokens[key]  , \"readability\": \"easy\"}, ignore_index=True)\n",
            "<ipython-input-313-de74925e99f6>:17: FutureWarning: The frame.append method is deprecated and will be removed from pandas in a future version. Use pandas.concat instead.\n",
            "  readability_df = readability_df.append({\"topic\": key,\"content\": page_dictionary[key],\"cleaned_content\": read_for_tokens[key]  , \"readability\": \"easy\"}, ignore_index=True)\n",
            "<ipython-input-313-de74925e99f6>:19: FutureWarning: The frame.append method is deprecated and will be removed from pandas in a future version. Use pandas.concat instead.\n",
            "  readability_df = readability_df.append({\"topic\": key,\"content\": page_dictionary[key],\"cleaned_content\": read_for_tokens[key]  , \"readability\": \"difficult\"}, ignore_index=True)\n"
          ]
        }
      ]
    },
    {
      "cell_type": "code",
      "source": [
        "# Initialize counters for 'easy' and 'difficult' categories\n",
        "easy=0\n",
        "difficult=0\n",
        "\n",
        "for grade in grades:\n",
        "  if grade < 13.5:\n",
        "    easy=easy+1\n",
        "  else:\n",
        "    difficult= difficult+1\n",
        "\n",
        "# Print the counts for 'easy' and 'difficult'\n",
        "print(easy)\n",
        "print(difficult)\n",
        "\n"
      ],
      "metadata": {
        "colab": {
          "base_uri": "https://localhost:8080/"
        },
        "id": "j2LE8MVqRJ3g",
        "outputId": "5ae01e2b-5b55-4cb6-afc6-3a47ec5e9018"
      },
      "execution_count": null,
      "outputs": [
        {
          "output_type": "stream",
          "name": "stdout",
          "text": [
            "44\n",
            "44\n"
          ]
        }
      ]
    },
    {
      "cell_type": "markdown",
      "source": [
        "**pos.csv Creation**"
      ],
      "metadata": {
        "id": "5s4zuMxr6USe"
      }
    },
    {
      "cell_type": "code",
      "source": [
        "for key in read_for_tokens.keys():\n",
        "  pos= pos_tag(word_tokenize(read_for_tokens[key]))\n",
        "\n",
        "  pos_df = pos_df.append({\"topic\":key , \"data_with_pos_tags\":pos} , ignore_index = True)\n",
        "\n",
        "# Export the contents of the pos_df DataFrame to a CSV file named \"pos.csv\"\n",
        "pos_df.to_csv(\"pos_df.csv\", index=False)"
      ],
      "metadata": {
        "id": "KlXz2m6u6TmZ",
        "colab": {
          "base_uri": "https://localhost:8080/"
        },
        "outputId": "4b2e584c-ee83-4842-d2fc-1db06b5bbd01"
      },
      "execution_count": null,
      "outputs": [
        {
          "output_type": "stream",
          "name": "stderr",
          "text": [
            "<ipython-input-315-8e1f8c817da1>:4: FutureWarning: The frame.append method is deprecated and will be removed from pandas in a future version. Use pandas.concat instead.\n",
            "  pos_df = pos_df.append({\"topic\":key , \"data_with_pos_tags\":pos} , ignore_index = True)\n",
            "<ipython-input-315-8e1f8c817da1>:4: FutureWarning: The frame.append method is deprecated and will be removed from pandas in a future version. Use pandas.concat instead.\n",
            "  pos_df = pos_df.append({\"topic\":key , \"data_with_pos_tags\":pos} , ignore_index = True)\n",
            "<ipython-input-315-8e1f8c817da1>:4: FutureWarning: The frame.append method is deprecated and will be removed from pandas in a future version. Use pandas.concat instead.\n",
            "  pos_df = pos_df.append({\"topic\":key , \"data_with_pos_tags\":pos} , ignore_index = True)\n",
            "<ipython-input-315-8e1f8c817da1>:4: FutureWarning: The frame.append method is deprecated and will be removed from pandas in a future version. Use pandas.concat instead.\n",
            "  pos_df = pos_df.append({\"topic\":key , \"data_with_pos_tags\":pos} , ignore_index = True)\n",
            "<ipython-input-315-8e1f8c817da1>:4: FutureWarning: The frame.append method is deprecated and will be removed from pandas in a future version. Use pandas.concat instead.\n",
            "  pos_df = pos_df.append({\"topic\":key , \"data_with_pos_tags\":pos} , ignore_index = True)\n",
            "<ipython-input-315-8e1f8c817da1>:4: FutureWarning: The frame.append method is deprecated and will be removed from pandas in a future version. Use pandas.concat instead.\n",
            "  pos_df = pos_df.append({\"topic\":key , \"data_with_pos_tags\":pos} , ignore_index = True)\n",
            "<ipython-input-315-8e1f8c817da1>:4: FutureWarning: The frame.append method is deprecated and will be removed from pandas in a future version. Use pandas.concat instead.\n",
            "  pos_df = pos_df.append({\"topic\":key , \"data_with_pos_tags\":pos} , ignore_index = True)\n",
            "<ipython-input-315-8e1f8c817da1>:4: FutureWarning: The frame.append method is deprecated and will be removed from pandas in a future version. Use pandas.concat instead.\n",
            "  pos_df = pos_df.append({\"topic\":key , \"data_with_pos_tags\":pos} , ignore_index = True)\n",
            "<ipython-input-315-8e1f8c817da1>:4: FutureWarning: The frame.append method is deprecated and will be removed from pandas in a future version. Use pandas.concat instead.\n",
            "  pos_df = pos_df.append({\"topic\":key , \"data_with_pos_tags\":pos} , ignore_index = True)\n",
            "<ipython-input-315-8e1f8c817da1>:4: FutureWarning: The frame.append method is deprecated and will be removed from pandas in a future version. Use pandas.concat instead.\n",
            "  pos_df = pos_df.append({\"topic\":key , \"data_with_pos_tags\":pos} , ignore_index = True)\n",
            "<ipython-input-315-8e1f8c817da1>:4: FutureWarning: The frame.append method is deprecated and will be removed from pandas in a future version. Use pandas.concat instead.\n",
            "  pos_df = pos_df.append({\"topic\":key , \"data_with_pos_tags\":pos} , ignore_index = True)\n",
            "<ipython-input-315-8e1f8c817da1>:4: FutureWarning: The frame.append method is deprecated and will be removed from pandas in a future version. Use pandas.concat instead.\n",
            "  pos_df = pos_df.append({\"topic\":key , \"data_with_pos_tags\":pos} , ignore_index = True)\n",
            "<ipython-input-315-8e1f8c817da1>:4: FutureWarning: The frame.append method is deprecated and will be removed from pandas in a future version. Use pandas.concat instead.\n",
            "  pos_df = pos_df.append({\"topic\":key , \"data_with_pos_tags\":pos} , ignore_index = True)\n",
            "<ipython-input-315-8e1f8c817da1>:4: FutureWarning: The frame.append method is deprecated and will be removed from pandas in a future version. Use pandas.concat instead.\n",
            "  pos_df = pos_df.append({\"topic\":key , \"data_with_pos_tags\":pos} , ignore_index = True)\n",
            "<ipython-input-315-8e1f8c817da1>:4: FutureWarning: The frame.append method is deprecated and will be removed from pandas in a future version. Use pandas.concat instead.\n",
            "  pos_df = pos_df.append({\"topic\":key , \"data_with_pos_tags\":pos} , ignore_index = True)\n",
            "<ipython-input-315-8e1f8c817da1>:4: FutureWarning: The frame.append method is deprecated and will be removed from pandas in a future version. Use pandas.concat instead.\n",
            "  pos_df = pos_df.append({\"topic\":key , \"data_with_pos_tags\":pos} , ignore_index = True)\n",
            "<ipython-input-315-8e1f8c817da1>:4: FutureWarning: The frame.append method is deprecated and will be removed from pandas in a future version. Use pandas.concat instead.\n",
            "  pos_df = pos_df.append({\"topic\":key , \"data_with_pos_tags\":pos} , ignore_index = True)\n",
            "<ipython-input-315-8e1f8c817da1>:4: FutureWarning: The frame.append method is deprecated and will be removed from pandas in a future version. Use pandas.concat instead.\n",
            "  pos_df = pos_df.append({\"topic\":key , \"data_with_pos_tags\":pos} , ignore_index = True)\n",
            "<ipython-input-315-8e1f8c817da1>:4: FutureWarning: The frame.append method is deprecated and will be removed from pandas in a future version. Use pandas.concat instead.\n",
            "  pos_df = pos_df.append({\"topic\":key , \"data_with_pos_tags\":pos} , ignore_index = True)\n",
            "<ipython-input-315-8e1f8c817da1>:4: FutureWarning: The frame.append method is deprecated and will be removed from pandas in a future version. Use pandas.concat instead.\n",
            "  pos_df = pos_df.append({\"topic\":key , \"data_with_pos_tags\":pos} , ignore_index = True)\n",
            "<ipython-input-315-8e1f8c817da1>:4: FutureWarning: The frame.append method is deprecated and will be removed from pandas in a future version. Use pandas.concat instead.\n",
            "  pos_df = pos_df.append({\"topic\":key , \"data_with_pos_tags\":pos} , ignore_index = True)\n",
            "<ipython-input-315-8e1f8c817da1>:4: FutureWarning: The frame.append method is deprecated and will be removed from pandas in a future version. Use pandas.concat instead.\n",
            "  pos_df = pos_df.append({\"topic\":key , \"data_with_pos_tags\":pos} , ignore_index = True)\n",
            "<ipython-input-315-8e1f8c817da1>:4: FutureWarning: The frame.append method is deprecated and will be removed from pandas in a future version. Use pandas.concat instead.\n",
            "  pos_df = pos_df.append({\"topic\":key , \"data_with_pos_tags\":pos} , ignore_index = True)\n",
            "<ipython-input-315-8e1f8c817da1>:4: FutureWarning: The frame.append method is deprecated and will be removed from pandas in a future version. Use pandas.concat instead.\n",
            "  pos_df = pos_df.append({\"topic\":key , \"data_with_pos_tags\":pos} , ignore_index = True)\n",
            "<ipython-input-315-8e1f8c817da1>:4: FutureWarning: The frame.append method is deprecated and will be removed from pandas in a future version. Use pandas.concat instead.\n",
            "  pos_df = pos_df.append({\"topic\":key , \"data_with_pos_tags\":pos} , ignore_index = True)\n",
            "<ipython-input-315-8e1f8c817da1>:4: FutureWarning: The frame.append method is deprecated and will be removed from pandas in a future version. Use pandas.concat instead.\n",
            "  pos_df = pos_df.append({\"topic\":key , \"data_with_pos_tags\":pos} , ignore_index = True)\n",
            "<ipython-input-315-8e1f8c817da1>:4: FutureWarning: The frame.append method is deprecated and will be removed from pandas in a future version. Use pandas.concat instead.\n",
            "  pos_df = pos_df.append({\"topic\":key , \"data_with_pos_tags\":pos} , ignore_index = True)\n",
            "<ipython-input-315-8e1f8c817da1>:4: FutureWarning: The frame.append method is deprecated and will be removed from pandas in a future version. Use pandas.concat instead.\n",
            "  pos_df = pos_df.append({\"topic\":key , \"data_with_pos_tags\":pos} , ignore_index = True)\n",
            "<ipython-input-315-8e1f8c817da1>:4: FutureWarning: The frame.append method is deprecated and will be removed from pandas in a future version. Use pandas.concat instead.\n",
            "  pos_df = pos_df.append({\"topic\":key , \"data_with_pos_tags\":pos} , ignore_index = True)\n",
            "<ipython-input-315-8e1f8c817da1>:4: FutureWarning: The frame.append method is deprecated and will be removed from pandas in a future version. Use pandas.concat instead.\n",
            "  pos_df = pos_df.append({\"topic\":key , \"data_with_pos_tags\":pos} , ignore_index = True)\n",
            "<ipython-input-315-8e1f8c817da1>:4: FutureWarning: The frame.append method is deprecated and will be removed from pandas in a future version. Use pandas.concat instead.\n",
            "  pos_df = pos_df.append({\"topic\":key , \"data_with_pos_tags\":pos} , ignore_index = True)\n",
            "<ipython-input-315-8e1f8c817da1>:4: FutureWarning: The frame.append method is deprecated and will be removed from pandas in a future version. Use pandas.concat instead.\n",
            "  pos_df = pos_df.append({\"topic\":key , \"data_with_pos_tags\":pos} , ignore_index = True)\n",
            "<ipython-input-315-8e1f8c817da1>:4: FutureWarning: The frame.append method is deprecated and will be removed from pandas in a future version. Use pandas.concat instead.\n",
            "  pos_df = pos_df.append({\"topic\":key , \"data_with_pos_tags\":pos} , ignore_index = True)\n",
            "<ipython-input-315-8e1f8c817da1>:4: FutureWarning: The frame.append method is deprecated and will be removed from pandas in a future version. Use pandas.concat instead.\n",
            "  pos_df = pos_df.append({\"topic\":key , \"data_with_pos_tags\":pos} , ignore_index = True)\n",
            "<ipython-input-315-8e1f8c817da1>:4: FutureWarning: The frame.append method is deprecated and will be removed from pandas in a future version. Use pandas.concat instead.\n",
            "  pos_df = pos_df.append({\"topic\":key , \"data_with_pos_tags\":pos} , ignore_index = True)\n",
            "<ipython-input-315-8e1f8c817da1>:4: FutureWarning: The frame.append method is deprecated and will be removed from pandas in a future version. Use pandas.concat instead.\n",
            "  pos_df = pos_df.append({\"topic\":key , \"data_with_pos_tags\":pos} , ignore_index = True)\n",
            "<ipython-input-315-8e1f8c817da1>:4: FutureWarning: The frame.append method is deprecated and will be removed from pandas in a future version. Use pandas.concat instead.\n",
            "  pos_df = pos_df.append({\"topic\":key , \"data_with_pos_tags\":pos} , ignore_index = True)\n",
            "<ipython-input-315-8e1f8c817da1>:4: FutureWarning: The frame.append method is deprecated and will be removed from pandas in a future version. Use pandas.concat instead.\n",
            "  pos_df = pos_df.append({\"topic\":key , \"data_with_pos_tags\":pos} , ignore_index = True)\n",
            "<ipython-input-315-8e1f8c817da1>:4: FutureWarning: The frame.append method is deprecated and will be removed from pandas in a future version. Use pandas.concat instead.\n",
            "  pos_df = pos_df.append({\"topic\":key , \"data_with_pos_tags\":pos} , ignore_index = True)\n",
            "<ipython-input-315-8e1f8c817da1>:4: FutureWarning: The frame.append method is deprecated and will be removed from pandas in a future version. Use pandas.concat instead.\n",
            "  pos_df = pos_df.append({\"topic\":key , \"data_with_pos_tags\":pos} , ignore_index = True)\n",
            "<ipython-input-315-8e1f8c817da1>:4: FutureWarning: The frame.append method is deprecated and will be removed from pandas in a future version. Use pandas.concat instead.\n",
            "  pos_df = pos_df.append({\"topic\":key , \"data_with_pos_tags\":pos} , ignore_index = True)\n",
            "<ipython-input-315-8e1f8c817da1>:4: FutureWarning: The frame.append method is deprecated and will be removed from pandas in a future version. Use pandas.concat instead.\n",
            "  pos_df = pos_df.append({\"topic\":key , \"data_with_pos_tags\":pos} , ignore_index = True)\n",
            "<ipython-input-315-8e1f8c817da1>:4: FutureWarning: The frame.append method is deprecated and will be removed from pandas in a future version. Use pandas.concat instead.\n",
            "  pos_df = pos_df.append({\"topic\":key , \"data_with_pos_tags\":pos} , ignore_index = True)\n",
            "<ipython-input-315-8e1f8c817da1>:4: FutureWarning: The frame.append method is deprecated and will be removed from pandas in a future version. Use pandas.concat instead.\n",
            "  pos_df = pos_df.append({\"topic\":key , \"data_with_pos_tags\":pos} , ignore_index = True)\n",
            "<ipython-input-315-8e1f8c817da1>:4: FutureWarning: The frame.append method is deprecated and will be removed from pandas in a future version. Use pandas.concat instead.\n",
            "  pos_df = pos_df.append({\"topic\":key , \"data_with_pos_tags\":pos} , ignore_index = True)\n",
            "<ipython-input-315-8e1f8c817da1>:4: FutureWarning: The frame.append method is deprecated and will be removed from pandas in a future version. Use pandas.concat instead.\n",
            "  pos_df = pos_df.append({\"topic\":key , \"data_with_pos_tags\":pos} , ignore_index = True)\n",
            "<ipython-input-315-8e1f8c817da1>:4: FutureWarning: The frame.append method is deprecated and will be removed from pandas in a future version. Use pandas.concat instead.\n",
            "  pos_df = pos_df.append({\"topic\":key , \"data_with_pos_tags\":pos} , ignore_index = True)\n",
            "<ipython-input-315-8e1f8c817da1>:4: FutureWarning: The frame.append method is deprecated and will be removed from pandas in a future version. Use pandas.concat instead.\n",
            "  pos_df = pos_df.append({\"topic\":key , \"data_with_pos_tags\":pos} , ignore_index = True)\n",
            "<ipython-input-315-8e1f8c817da1>:4: FutureWarning: The frame.append method is deprecated and will be removed from pandas in a future version. Use pandas.concat instead.\n",
            "  pos_df = pos_df.append({\"topic\":key , \"data_with_pos_tags\":pos} , ignore_index = True)\n",
            "<ipython-input-315-8e1f8c817da1>:4: FutureWarning: The frame.append method is deprecated and will be removed from pandas in a future version. Use pandas.concat instead.\n",
            "  pos_df = pos_df.append({\"topic\":key , \"data_with_pos_tags\":pos} , ignore_index = True)\n",
            "<ipython-input-315-8e1f8c817da1>:4: FutureWarning: The frame.append method is deprecated and will be removed from pandas in a future version. Use pandas.concat instead.\n",
            "  pos_df = pos_df.append({\"topic\":key , \"data_with_pos_tags\":pos} , ignore_index = True)\n",
            "<ipython-input-315-8e1f8c817da1>:4: FutureWarning: The frame.append method is deprecated and will be removed from pandas in a future version. Use pandas.concat instead.\n",
            "  pos_df = pos_df.append({\"topic\":key , \"data_with_pos_tags\":pos} , ignore_index = True)\n",
            "<ipython-input-315-8e1f8c817da1>:4: FutureWarning: The frame.append method is deprecated and will be removed from pandas in a future version. Use pandas.concat instead.\n",
            "  pos_df = pos_df.append({\"topic\":key , \"data_with_pos_tags\":pos} , ignore_index = True)\n",
            "<ipython-input-315-8e1f8c817da1>:4: FutureWarning: The frame.append method is deprecated and will be removed from pandas in a future version. Use pandas.concat instead.\n",
            "  pos_df = pos_df.append({\"topic\":key , \"data_with_pos_tags\":pos} , ignore_index = True)\n",
            "<ipython-input-315-8e1f8c817da1>:4: FutureWarning: The frame.append method is deprecated and will be removed from pandas in a future version. Use pandas.concat instead.\n",
            "  pos_df = pos_df.append({\"topic\":key , \"data_with_pos_tags\":pos} , ignore_index = True)\n",
            "<ipython-input-315-8e1f8c817da1>:4: FutureWarning: The frame.append method is deprecated and will be removed from pandas in a future version. Use pandas.concat instead.\n",
            "  pos_df = pos_df.append({\"topic\":key , \"data_with_pos_tags\":pos} , ignore_index = True)\n",
            "<ipython-input-315-8e1f8c817da1>:4: FutureWarning: The frame.append method is deprecated and will be removed from pandas in a future version. Use pandas.concat instead.\n",
            "  pos_df = pos_df.append({\"topic\":key , \"data_with_pos_tags\":pos} , ignore_index = True)\n",
            "<ipython-input-315-8e1f8c817da1>:4: FutureWarning: The frame.append method is deprecated and will be removed from pandas in a future version. Use pandas.concat instead.\n",
            "  pos_df = pos_df.append({\"topic\":key , \"data_with_pos_tags\":pos} , ignore_index = True)\n",
            "<ipython-input-315-8e1f8c817da1>:4: FutureWarning: The frame.append method is deprecated and will be removed from pandas in a future version. Use pandas.concat instead.\n",
            "  pos_df = pos_df.append({\"topic\":key , \"data_with_pos_tags\":pos} , ignore_index = True)\n",
            "<ipython-input-315-8e1f8c817da1>:4: FutureWarning: The frame.append method is deprecated and will be removed from pandas in a future version. Use pandas.concat instead.\n",
            "  pos_df = pos_df.append({\"topic\":key , \"data_with_pos_tags\":pos} , ignore_index = True)\n",
            "<ipython-input-315-8e1f8c817da1>:4: FutureWarning: The frame.append method is deprecated and will be removed from pandas in a future version. Use pandas.concat instead.\n",
            "  pos_df = pos_df.append({\"topic\":key , \"data_with_pos_tags\":pos} , ignore_index = True)\n",
            "<ipython-input-315-8e1f8c817da1>:4: FutureWarning: The frame.append method is deprecated and will be removed from pandas in a future version. Use pandas.concat instead.\n",
            "  pos_df = pos_df.append({\"topic\":key , \"data_with_pos_tags\":pos} , ignore_index = True)\n",
            "<ipython-input-315-8e1f8c817da1>:4: FutureWarning: The frame.append method is deprecated and will be removed from pandas in a future version. Use pandas.concat instead.\n",
            "  pos_df = pos_df.append({\"topic\":key , \"data_with_pos_tags\":pos} , ignore_index = True)\n",
            "<ipython-input-315-8e1f8c817da1>:4: FutureWarning: The frame.append method is deprecated and will be removed from pandas in a future version. Use pandas.concat instead.\n",
            "  pos_df = pos_df.append({\"topic\":key , \"data_with_pos_tags\":pos} , ignore_index = True)\n",
            "<ipython-input-315-8e1f8c817da1>:4: FutureWarning: The frame.append method is deprecated and will be removed from pandas in a future version. Use pandas.concat instead.\n",
            "  pos_df = pos_df.append({\"topic\":key , \"data_with_pos_tags\":pos} , ignore_index = True)\n",
            "<ipython-input-315-8e1f8c817da1>:4: FutureWarning: The frame.append method is deprecated and will be removed from pandas in a future version. Use pandas.concat instead.\n",
            "  pos_df = pos_df.append({\"topic\":key , \"data_with_pos_tags\":pos} , ignore_index = True)\n",
            "<ipython-input-315-8e1f8c817da1>:4: FutureWarning: The frame.append method is deprecated and will be removed from pandas in a future version. Use pandas.concat instead.\n",
            "  pos_df = pos_df.append({\"topic\":key , \"data_with_pos_tags\":pos} , ignore_index = True)\n",
            "<ipython-input-315-8e1f8c817da1>:4: FutureWarning: The frame.append method is deprecated and will be removed from pandas in a future version. Use pandas.concat instead.\n",
            "  pos_df = pos_df.append({\"topic\":key , \"data_with_pos_tags\":pos} , ignore_index = True)\n",
            "<ipython-input-315-8e1f8c817da1>:4: FutureWarning: The frame.append method is deprecated and will be removed from pandas in a future version. Use pandas.concat instead.\n",
            "  pos_df = pos_df.append({\"topic\":key , \"data_with_pos_tags\":pos} , ignore_index = True)\n",
            "<ipython-input-315-8e1f8c817da1>:4: FutureWarning: The frame.append method is deprecated and will be removed from pandas in a future version. Use pandas.concat instead.\n",
            "  pos_df = pos_df.append({\"topic\":key , \"data_with_pos_tags\":pos} , ignore_index = True)\n",
            "<ipython-input-315-8e1f8c817da1>:4: FutureWarning: The frame.append method is deprecated and will be removed from pandas in a future version. Use pandas.concat instead.\n",
            "  pos_df = pos_df.append({\"topic\":key , \"data_with_pos_tags\":pos} , ignore_index = True)\n",
            "<ipython-input-315-8e1f8c817da1>:4: FutureWarning: The frame.append method is deprecated and will be removed from pandas in a future version. Use pandas.concat instead.\n",
            "  pos_df = pos_df.append({\"topic\":key , \"data_with_pos_tags\":pos} , ignore_index = True)\n",
            "<ipython-input-315-8e1f8c817da1>:4: FutureWarning: The frame.append method is deprecated and will be removed from pandas in a future version. Use pandas.concat instead.\n",
            "  pos_df = pos_df.append({\"topic\":key , \"data_with_pos_tags\":pos} , ignore_index = True)\n",
            "<ipython-input-315-8e1f8c817da1>:4: FutureWarning: The frame.append method is deprecated and will be removed from pandas in a future version. Use pandas.concat instead.\n",
            "  pos_df = pos_df.append({\"topic\":key , \"data_with_pos_tags\":pos} , ignore_index = True)\n",
            "<ipython-input-315-8e1f8c817da1>:4: FutureWarning: The frame.append method is deprecated and will be removed from pandas in a future version. Use pandas.concat instead.\n",
            "  pos_df = pos_df.append({\"topic\":key , \"data_with_pos_tags\":pos} , ignore_index = True)\n",
            "<ipython-input-315-8e1f8c817da1>:4: FutureWarning: The frame.append method is deprecated and will be removed from pandas in a future version. Use pandas.concat instead.\n",
            "  pos_df = pos_df.append({\"topic\":key , \"data_with_pos_tags\":pos} , ignore_index = True)\n",
            "<ipython-input-315-8e1f8c817da1>:4: FutureWarning: The frame.append method is deprecated and will be removed from pandas in a future version. Use pandas.concat instead.\n",
            "  pos_df = pos_df.append({\"topic\":key , \"data_with_pos_tags\":pos} , ignore_index = True)\n",
            "<ipython-input-315-8e1f8c817da1>:4: FutureWarning: The frame.append method is deprecated and will be removed from pandas in a future version. Use pandas.concat instead.\n",
            "  pos_df = pos_df.append({\"topic\":key , \"data_with_pos_tags\":pos} , ignore_index = True)\n",
            "<ipython-input-315-8e1f8c817da1>:4: FutureWarning: The frame.append method is deprecated and will be removed from pandas in a future version. Use pandas.concat instead.\n",
            "  pos_df = pos_df.append({\"topic\":key , \"data_with_pos_tags\":pos} , ignore_index = True)\n",
            "<ipython-input-315-8e1f8c817da1>:4: FutureWarning: The frame.append method is deprecated and will be removed from pandas in a future version. Use pandas.concat instead.\n",
            "  pos_df = pos_df.append({\"topic\":key , \"data_with_pos_tags\":pos} , ignore_index = True)\n",
            "<ipython-input-315-8e1f8c817da1>:4: FutureWarning: The frame.append method is deprecated and will be removed from pandas in a future version. Use pandas.concat instead.\n",
            "  pos_df = pos_df.append({\"topic\":key , \"data_with_pos_tags\":pos} , ignore_index = True)\n",
            "<ipython-input-315-8e1f8c817da1>:4: FutureWarning: The frame.append method is deprecated and will be removed from pandas in a future version. Use pandas.concat instead.\n",
            "  pos_df = pos_df.append({\"topic\":key , \"data_with_pos_tags\":pos} , ignore_index = True)\n",
            "<ipython-input-315-8e1f8c817da1>:4: FutureWarning: The frame.append method is deprecated and will be removed from pandas in a future version. Use pandas.concat instead.\n",
            "  pos_df = pos_df.append({\"topic\":key , \"data_with_pos_tags\":pos} , ignore_index = True)\n",
            "<ipython-input-315-8e1f8c817da1>:4: FutureWarning: The frame.append method is deprecated and will be removed from pandas in a future version. Use pandas.concat instead.\n",
            "  pos_df = pos_df.append({\"topic\":key , \"data_with_pos_tags\":pos} , ignore_index = True)\n",
            "<ipython-input-315-8e1f8c817da1>:4: FutureWarning: The frame.append method is deprecated and will be removed from pandas in a future version. Use pandas.concat instead.\n",
            "  pos_df = pos_df.append({\"topic\":key , \"data_with_pos_tags\":pos} , ignore_index = True)\n",
            "<ipython-input-315-8e1f8c817da1>:4: FutureWarning: The frame.append method is deprecated and will be removed from pandas in a future version. Use pandas.concat instead.\n",
            "  pos_df = pos_df.append({\"topic\":key , \"data_with_pos_tags\":pos} , ignore_index = True)\n",
            "<ipython-input-315-8e1f8c817da1>:4: FutureWarning: The frame.append method is deprecated and will be removed from pandas in a future version. Use pandas.concat instead.\n",
            "  pos_df = pos_df.append({\"topic\":key , \"data_with_pos_tags\":pos} , ignore_index = True)\n",
            "<ipython-input-315-8e1f8c817da1>:4: FutureWarning: The frame.append method is deprecated and will be removed from pandas in a future version. Use pandas.concat instead.\n",
            "  pos_df = pos_df.append({\"topic\":key , \"data_with_pos_tags\":pos} , ignore_index = True)\n"
          ]
        }
      ]
    },
    {
      "cell_type": "markdown",
      "source": [
        "# **Readability Analysis using Logistic Regression**"
      ],
      "metadata": {
        "id": "BHZxsHUneqcJ"
      }
    },
    {
      "cell_type": "markdown",
      "source": [
        "**Data Reading and Understanding**"
      ],
      "metadata": {
        "id": "tyEOKbmN7bXl"
      }
    },
    {
      "cell_type": "code",
      "source": [
        "data1= pd.DataFrame()\n",
        "data1 = pd.read_csv('readability.csv')"
      ],
      "metadata": {
        "id": "euVFjvV7SrZX"
      },
      "execution_count": null,
      "outputs": []
    },
    {
      "cell_type": "code",
      "source": [
        "# Displaying first 5 rows of dataset\n",
        "data1.head()"
      ],
      "metadata": {
        "colab": {
          "base_uri": "https://localhost:8080/",
          "height": 206
        },
        "id": "7K4tJ4R3_0oh",
        "outputId": "37e47e52-d0fc-44f5-b5ed-083ad3e80897"
      },
      "execution_count": null,
      "outputs": [
        {
          "output_type": "execute_result",
          "data": {
            "text/plain": [
              "                      topic  \\\n",
              "0              Tokenization   \n",
              "1  Named-entity recognition   \n",
              "2        Sentiment analysis   \n",
              "3            Entity linking   \n",
              "4   Automatic summarization   \n",
              "\n",
              "                                             content  \\\n",
              "0  Tokenization may refer to:\\n\\nTokenization (le...   \n",
              "1  Named-entity recognition (NER) (also known as ...   \n",
              "2  Sentiment analysis (also known as opinion mini...   \n",
              "3  In natural language processing, entity linking...   \n",
              "4  Automatic summarization is the process of shor...   \n",
              "\n",
              "                                     cleaned_content readability  \n",
              "0  tokenization may refer tokenization lexical an...   difficult  \n",
              "1  named entity recognition ner also known named ...        easy  \n",
              "2  sentiment analysis also known opinion mining e...        easy  \n",
              "3  natural language processing entity linking als...   difficult  \n",
              "4  automatic summarization process shortening set...        easy  "
            ],
            "text/html": [
              "\n",
              "  <div id=\"df-41b69e99-d795-48ec-a4a7-b3fdb4758dbe\" class=\"colab-df-container\">\n",
              "    <div>\n",
              "<style scoped>\n",
              "    .dataframe tbody tr th:only-of-type {\n",
              "        vertical-align: middle;\n",
              "    }\n",
              "\n",
              "    .dataframe tbody tr th {\n",
              "        vertical-align: top;\n",
              "    }\n",
              "\n",
              "    .dataframe thead th {\n",
              "        text-align: right;\n",
              "    }\n",
              "</style>\n",
              "<table border=\"1\" class=\"dataframe\">\n",
              "  <thead>\n",
              "    <tr style=\"text-align: right;\">\n",
              "      <th></th>\n",
              "      <th>topic</th>\n",
              "      <th>content</th>\n",
              "      <th>cleaned_content</th>\n",
              "      <th>readability</th>\n",
              "    </tr>\n",
              "  </thead>\n",
              "  <tbody>\n",
              "    <tr>\n",
              "      <th>0</th>\n",
              "      <td>Tokenization</td>\n",
              "      <td>Tokenization may refer to:\\n\\nTokenization (le...</td>\n",
              "      <td>tokenization may refer tokenization lexical an...</td>\n",
              "      <td>difficult</td>\n",
              "    </tr>\n",
              "    <tr>\n",
              "      <th>1</th>\n",
              "      <td>Named-entity recognition</td>\n",
              "      <td>Named-entity recognition (NER) (also known as ...</td>\n",
              "      <td>named entity recognition ner also known named ...</td>\n",
              "      <td>easy</td>\n",
              "    </tr>\n",
              "    <tr>\n",
              "      <th>2</th>\n",
              "      <td>Sentiment analysis</td>\n",
              "      <td>Sentiment analysis (also known as opinion mini...</td>\n",
              "      <td>sentiment analysis also known opinion mining e...</td>\n",
              "      <td>easy</td>\n",
              "    </tr>\n",
              "    <tr>\n",
              "      <th>3</th>\n",
              "      <td>Entity linking</td>\n",
              "      <td>In natural language processing, entity linking...</td>\n",
              "      <td>natural language processing entity linking als...</td>\n",
              "      <td>difficult</td>\n",
              "    </tr>\n",
              "    <tr>\n",
              "      <th>4</th>\n",
              "      <td>Automatic summarization</td>\n",
              "      <td>Automatic summarization is the process of shor...</td>\n",
              "      <td>automatic summarization process shortening set...</td>\n",
              "      <td>easy</td>\n",
              "    </tr>\n",
              "  </tbody>\n",
              "</table>\n",
              "</div>\n",
              "    <div class=\"colab-df-buttons\">\n",
              "\n",
              "  <div class=\"colab-df-container\">\n",
              "    <button class=\"colab-df-convert\" onclick=\"convertToInteractive('df-41b69e99-d795-48ec-a4a7-b3fdb4758dbe')\"\n",
              "            title=\"Convert this dataframe to an interactive table.\"\n",
              "            style=\"display:none;\">\n",
              "\n",
              "  <svg xmlns=\"http://www.w3.org/2000/svg\" height=\"24px\" viewBox=\"0 -960 960 960\">\n",
              "    <path d=\"M120-120v-720h720v720H120Zm60-500h600v-160H180v160Zm220 220h160v-160H400v160Zm0 220h160v-160H400v160ZM180-400h160v-160H180v160Zm440 0h160v-160H620v160ZM180-180h160v-160H180v160Zm440 0h160v-160H620v160Z\"/>\n",
              "  </svg>\n",
              "    </button>\n",
              "\n",
              "  <style>\n",
              "    .colab-df-container {\n",
              "      display:flex;\n",
              "      gap: 12px;\n",
              "    }\n",
              "\n",
              "    .colab-df-convert {\n",
              "      background-color: #E8F0FE;\n",
              "      border: none;\n",
              "      border-radius: 50%;\n",
              "      cursor: pointer;\n",
              "      display: none;\n",
              "      fill: #1967D2;\n",
              "      height: 32px;\n",
              "      padding: 0 0 0 0;\n",
              "      width: 32px;\n",
              "    }\n",
              "\n",
              "    .colab-df-convert:hover {\n",
              "      background-color: #E2EBFA;\n",
              "      box-shadow: 0px 1px 2px rgba(60, 64, 67, 0.3), 0px 1px 3px 1px rgba(60, 64, 67, 0.15);\n",
              "      fill: #174EA6;\n",
              "    }\n",
              "\n",
              "    .colab-df-buttons div {\n",
              "      margin-bottom: 4px;\n",
              "    }\n",
              "\n",
              "    [theme=dark] .colab-df-convert {\n",
              "      background-color: #3B4455;\n",
              "      fill: #D2E3FC;\n",
              "    }\n",
              "\n",
              "    [theme=dark] .colab-df-convert:hover {\n",
              "      background-color: #434B5C;\n",
              "      box-shadow: 0px 1px 3px 1px rgba(0, 0, 0, 0.15);\n",
              "      filter: drop-shadow(0px 1px 2px rgba(0, 0, 0, 0.3));\n",
              "      fill: #FFFFFF;\n",
              "    }\n",
              "  </style>\n",
              "\n",
              "    <script>\n",
              "      const buttonEl =\n",
              "        document.querySelector('#df-41b69e99-d795-48ec-a4a7-b3fdb4758dbe button.colab-df-convert');\n",
              "      buttonEl.style.display =\n",
              "        google.colab.kernel.accessAllowed ? 'block' : 'none';\n",
              "\n",
              "      async function convertToInteractive(key) {\n",
              "        const element = document.querySelector('#df-41b69e99-d795-48ec-a4a7-b3fdb4758dbe');\n",
              "        const dataTable =\n",
              "          await google.colab.kernel.invokeFunction('convertToInteractive',\n",
              "                                                    [key], {});\n",
              "        if (!dataTable) return;\n",
              "\n",
              "        const docLinkHtml = 'Like what you see? Visit the ' +\n",
              "          '<a target=\"_blank\" href=https://colab.research.google.com/notebooks/data_table.ipynb>data table notebook</a>'\n",
              "          + ' to learn more about interactive tables.';\n",
              "        element.innerHTML = '';\n",
              "        dataTable['output_type'] = 'display_data';\n",
              "        await google.colab.output.renderOutput(dataTable, element);\n",
              "        const docLink = document.createElement('div');\n",
              "        docLink.innerHTML = docLinkHtml;\n",
              "        element.appendChild(docLink);\n",
              "      }\n",
              "    </script>\n",
              "  </div>\n",
              "\n",
              "\n",
              "<div id=\"df-03c1767a-7860-4c26-a766-adcce5b6b702\">\n",
              "  <button class=\"colab-df-quickchart\" onclick=\"quickchart('df-03c1767a-7860-4c26-a766-adcce5b6b702')\"\n",
              "            title=\"Suggest charts\"\n",
              "            style=\"display:none;\">\n",
              "\n",
              "<svg xmlns=\"http://www.w3.org/2000/svg\" height=\"24px\"viewBox=\"0 0 24 24\"\n",
              "     width=\"24px\">\n",
              "    <g>\n",
              "        <path d=\"M19 3H5c-1.1 0-2 .9-2 2v14c0 1.1.9 2 2 2h14c1.1 0 2-.9 2-2V5c0-1.1-.9-2-2-2zM9 17H7v-7h2v7zm4 0h-2V7h2v10zm4 0h-2v-4h2v4z\"/>\n",
              "    </g>\n",
              "</svg>\n",
              "  </button>\n",
              "\n",
              "<style>\n",
              "  .colab-df-quickchart {\n",
              "      --bg-color: #E8F0FE;\n",
              "      --fill-color: #1967D2;\n",
              "      --hover-bg-color: #E2EBFA;\n",
              "      --hover-fill-color: #174EA6;\n",
              "      --disabled-fill-color: #AAA;\n",
              "      --disabled-bg-color: #DDD;\n",
              "  }\n",
              "\n",
              "  [theme=dark] .colab-df-quickchart {\n",
              "      --bg-color: #3B4455;\n",
              "      --fill-color: #D2E3FC;\n",
              "      --hover-bg-color: #434B5C;\n",
              "      --hover-fill-color: #FFFFFF;\n",
              "      --disabled-bg-color: #3B4455;\n",
              "      --disabled-fill-color: #666;\n",
              "  }\n",
              "\n",
              "  .colab-df-quickchart {\n",
              "    background-color: var(--bg-color);\n",
              "    border: none;\n",
              "    border-radius: 50%;\n",
              "    cursor: pointer;\n",
              "    display: none;\n",
              "    fill: var(--fill-color);\n",
              "    height: 32px;\n",
              "    padding: 0;\n",
              "    width: 32px;\n",
              "  }\n",
              "\n",
              "  .colab-df-quickchart:hover {\n",
              "    background-color: var(--hover-bg-color);\n",
              "    box-shadow: 0 1px 2px rgba(60, 64, 67, 0.3), 0 1px 3px 1px rgba(60, 64, 67, 0.15);\n",
              "    fill: var(--button-hover-fill-color);\n",
              "  }\n",
              "\n",
              "  .colab-df-quickchart-complete:disabled,\n",
              "  .colab-df-quickchart-complete:disabled:hover {\n",
              "    background-color: var(--disabled-bg-color);\n",
              "    fill: var(--disabled-fill-color);\n",
              "    box-shadow: none;\n",
              "  }\n",
              "\n",
              "  .colab-df-spinner {\n",
              "    border: 2px solid var(--fill-color);\n",
              "    border-color: transparent;\n",
              "    border-bottom-color: var(--fill-color);\n",
              "    animation:\n",
              "      spin 1s steps(1) infinite;\n",
              "  }\n",
              "\n",
              "  @keyframes spin {\n",
              "    0% {\n",
              "      border-color: transparent;\n",
              "      border-bottom-color: var(--fill-color);\n",
              "      border-left-color: var(--fill-color);\n",
              "    }\n",
              "    20% {\n",
              "      border-color: transparent;\n",
              "      border-left-color: var(--fill-color);\n",
              "      border-top-color: var(--fill-color);\n",
              "    }\n",
              "    30% {\n",
              "      border-color: transparent;\n",
              "      border-left-color: var(--fill-color);\n",
              "      border-top-color: var(--fill-color);\n",
              "      border-right-color: var(--fill-color);\n",
              "    }\n",
              "    40% {\n",
              "      border-color: transparent;\n",
              "      border-right-color: var(--fill-color);\n",
              "      border-top-color: var(--fill-color);\n",
              "    }\n",
              "    60% {\n",
              "      border-color: transparent;\n",
              "      border-right-color: var(--fill-color);\n",
              "    }\n",
              "    80% {\n",
              "      border-color: transparent;\n",
              "      border-right-color: var(--fill-color);\n",
              "      border-bottom-color: var(--fill-color);\n",
              "    }\n",
              "    90% {\n",
              "      border-color: transparent;\n",
              "      border-bottom-color: var(--fill-color);\n",
              "    }\n",
              "  }\n",
              "</style>\n",
              "\n",
              "  <script>\n",
              "    async function quickchart(key) {\n",
              "      const quickchartButtonEl =\n",
              "        document.querySelector('#' + key + ' button');\n",
              "      quickchartButtonEl.disabled = true;  // To prevent multiple clicks.\n",
              "      quickchartButtonEl.classList.add('colab-df-spinner');\n",
              "      try {\n",
              "        const charts = await google.colab.kernel.invokeFunction(\n",
              "            'suggestCharts', [key], {});\n",
              "      } catch (error) {\n",
              "        console.error('Error during call to suggestCharts:', error);\n",
              "      }\n",
              "      quickchartButtonEl.classList.remove('colab-df-spinner');\n",
              "      quickchartButtonEl.classList.add('colab-df-quickchart-complete');\n",
              "    }\n",
              "    (() => {\n",
              "      let quickchartButtonEl =\n",
              "        document.querySelector('#df-03c1767a-7860-4c26-a766-adcce5b6b702 button');\n",
              "      quickchartButtonEl.style.display =\n",
              "        google.colab.kernel.accessAllowed ? 'block' : 'none';\n",
              "    })();\n",
              "  </script>\n",
              "</div>\n",
              "\n",
              "    </div>\n",
              "  </div>\n"
            ]
          },
          "metadata": {},
          "execution_count": 317
        }
      ]
    },
    {
      "cell_type": "code",
      "source": [
        "# Checking shape of dataset\n",
        "data1.shape"
      ],
      "metadata": {
        "colab": {
          "base_uri": "https://localhost:8080/"
        },
        "id": "zeNU3c34LAPS",
        "outputId": "7d1784d4-7b33-41db-862b-986640e364e0"
      },
      "execution_count": null,
      "outputs": [
        {
          "output_type": "execute_result",
          "data": {
            "text/plain": [
              "(88, 4)"
            ]
          },
          "metadata": {},
          "execution_count": 318
        }
      ]
    },
    {
      "cell_type": "code",
      "source": [
        "# Information of dataset\n",
        "data1.info()"
      ],
      "metadata": {
        "colab": {
          "base_uri": "https://localhost:8080/"
        },
        "id": "fduXpVHuLXu7",
        "outputId": "b82c382e-910d-4951-c826-17a385bd9b5b"
      },
      "execution_count": null,
      "outputs": [
        {
          "output_type": "stream",
          "name": "stdout",
          "text": [
            "<class 'pandas.core.frame.DataFrame'>\n",
            "RangeIndex: 88 entries, 0 to 87\n",
            "Data columns (total 4 columns):\n",
            " #   Column           Non-Null Count  Dtype \n",
            "---  ------           --------------  ----- \n",
            " 0   topic            88 non-null     object\n",
            " 1   content          88 non-null     object\n",
            " 2   cleaned_content  88 non-null     object\n",
            " 3   readability      88 non-null     object\n",
            "dtypes: object(4)\n",
            "memory usage: 2.9+ KB\n"
          ]
        }
      ]
    },
    {
      "cell_type": "code",
      "source": [
        "# Finding missing values\n",
        "data1.isnull().sum()"
      ],
      "metadata": {
        "colab": {
          "base_uri": "https://localhost:8080/"
        },
        "id": "p0GK9eoYLZXW",
        "outputId": "2d5f41a9-da70-40da-c054-bd2a99b063da"
      },
      "execution_count": null,
      "outputs": [
        {
          "output_type": "execute_result",
          "data": {
            "text/plain": [
              "topic              0\n",
              "content            0\n",
              "cleaned_content    0\n",
              "readability        0\n",
              "dtype: int64"
            ]
          },
          "metadata": {},
          "execution_count": 320
        }
      ]
    },
    {
      "cell_type": "code",
      "source": [
        "# Finding duplicate values\n",
        "data1.duplicated().sum()"
      ],
      "metadata": {
        "colab": {
          "base_uri": "https://localhost:8080/"
        },
        "id": "WTmtqW6ELZqc",
        "outputId": "fc8bd5be-b54e-4769-c78c-13b346a81963"
      },
      "execution_count": null,
      "outputs": [
        {
          "output_type": "execute_result",
          "data": {
            "text/plain": [
              "0"
            ]
          },
          "metadata": {},
          "execution_count": 321
        }
      ]
    },
    {
      "cell_type": "markdown",
      "source": [
        "**Exploratory Data Analysis**"
      ],
      "metadata": {
        "id": "DFuXdhz28E2M"
      }
    },
    {
      "cell_type": "code",
      "source": [
        "#Examining how instances are distributed among different classes in the dataset.\n",
        "#Count of different labels of sentiments\n",
        "data1['readability'].value_counts()"
      ],
      "metadata": {
        "colab": {
          "base_uri": "https://localhost:8080/"
        },
        "id": "v-CT4M_NLZpC",
        "outputId": "de63a55e-95c9-45ea-8833-82b7482c310a"
      },
      "execution_count": null,
      "outputs": [
        {
          "output_type": "execute_result",
          "data": {
            "text/plain": [
              "difficult    44\n",
              "easy         44\n",
              "Name: readability, dtype: int64"
            ]
          },
          "metadata": {},
          "execution_count": 322
        }
      ]
    },
    {
      "cell_type": "code",
      "source": [
        "plt.pie(data1['readability'].value_counts(), labels=['easy', 'difficult'],autopct=\"%0.2f\")\n",
        "plt.show()"
      ],
      "metadata": {
        "colab": {
          "base_uri": "https://localhost:8080/",
          "height": 406
        },
        "id": "-05u0f8PLaHp",
        "outputId": "60587786-809f-4df4-80a0-0688b47dbb8e"
      },
      "execution_count": null,
      "outputs": [
        {
          "output_type": "display_data",
          "data": {
            "text/plain": [
              "<Figure size 640x480 with 1 Axes>"
            ],
            "image/png": "[encoded data removed]"
          },
          "metadata": {}
        }
      ]
    },
    {
      "cell_type": "markdown",
      "source": [
        "**Feature Extraction, Train and Test Split, Model Building using Logistic Regression and Evaluation**"
      ],
      "metadata": {
        "id": "8LzVmQh770EE"
      }
    },
    {
      "cell_type": "code",
      "source": [
        "# Feature Extraction\n",
        "tfidf = TfidfVectorizer(max_features=2000)\n",
        "X = tfidf.fit_transform(data1['cleaned_content'])\n",
        "Y = data1['readability']\n",
        "\n",
        "# Splitting training and testing data\n",
        "X_train,X_test,Y_train,Y_test = train_test_split(X,Y,test_size=0.18,random_state=42) # 15% for testing\n",
        "\n",
        "# Training the Logistic Regression model\n",
        "model = LogisticRegression()\n",
        "model.fit(X_train, Y_train)\n",
        "\n",
        "# Predicting on the test set\n",
        "y_pred = model.predict(X_test)\n",
        "\n",
        "# Evaluating the classifier\n",
        "accuracy = accuracy_score(Y_test, y_pred)\n",
        "precision = precision_score(Y_test, y_pred, average='macro')\n",
        "recall = recall_score(Y_test, y_pred, average='macro')\n",
        "f1 = f1_score(Y_test, y_pred, average='macro')\n",
        "conf_matrix = confusion_matrix(Y_test, y_pred)\n",
        "class_report = classification_report(Y_test, y_pred)\n",
        "\n",
        "# Printing metrics\n",
        "print(f\"Accuracy of Logistic Regression: {accuracy}\")\n",
        "print(f\"Precision of Logistic Regression: {precision}\")\n",
        "print(f\"Recall of Logistic Regression: {recall}\")\n",
        "print(f\"F1 Score of Logistic Regression: {f1}\")\n",
        "print(f\"Confusion Matrix:\\n{conf_matrix}\")\n",
        "print(f\"Classification Report:\\n{class_report}\")"
      ],
      "metadata": {
        "colab": {
          "base_uri": "https://localhost:8080/"
        },
        "id": "bEV9jWbULwH-",
        "outputId": "21af115f-0ecf-4fdb-d941-60eaf780df82"
      },
      "execution_count": null,
      "outputs": [
        {
          "output_type": "stream",
          "name": "stdout",
          "text": [
            "Accuracy of Logistic Regression: 0.75\n",
            "Precision of Logistic Regression: 0.746031746031746\n",
            "Recall of Logistic Regression: 0.746031746031746\n",
            "F1 Score of Logistic Regression: 0.746031746031746\n",
            "Confusion Matrix:\n",
            "[[5 2]\n",
            " [2 7]]\n",
            "Classification Report:\n",
            "              precision    recall  f1-score   support\n",
            "\n",
            "   difficult       0.71      0.71      0.71         7\n",
            "        easy       0.78      0.78      0.78         9\n",
            "\n",
            "    accuracy                           0.75        16\n",
            "   macro avg       0.75      0.75      0.75        16\n",
            "weighted avg       0.75      0.75      0.75        16\n",
            "\n"
          ]
        }
      ]
    },
    {
      "cell_type": "code",
      "source": [
        "# Assigning metrics and scores from variables\n",
        "metrics = ['Accuracy', 'Precision', 'Recall', 'F1-score']\n",
        "scores = [accuracy, precision, recall, f1]\n",
        "\n",
        "# Plotting the scores for the Logistic Regression model\n",
        "plt.figure(figsize=(8, 6))\n",
        "bars = plt.bar(metrics, scores, color=['pink', 'lightblue', 'lightgreen', 'orange'])\n",
        "\n",
        "# Adding the scores on top of the bars\n",
        "for bar, score in zip(bars, scores):\n",
        "    plt.text(bar.get_x() + bar.get_width() / 2, score, f'{score:.3f}', va='bottom', ha='center', color='black')\n",
        "\n",
        "plt.xlabel('Metrics')\n",
        "plt.ylabel('Scores')\n",
        "plt.title('Performance Metrics for Logistic Regression')\n",
        "plt.ylim(0, 1)  # Set the y-axis limit from 0 to 1 for scores\n",
        "plt.show()"
      ],
      "metadata": {
        "colab": {
          "base_uri": "https://localhost:8080/",
          "height": 564
        },
        "id": "TT6oc6Y21AOS",
        "outputId": "6b7618ae-fae1-46c4-9080-6c9b59fad31a"
      },
      "execution_count": null,
      "outputs": [
        {
          "output_type": "display_data",
          "data": {
            "text/plain": [
              "<Figure size 800x600 with 1 Axes>"
            ],
            "image/png": "[encoded data removed]"
          },
          "metadata": {}
        }
      ]
    },
    {
      "cell_type": "code",
      "source": [
        "# Plot confusion matrix\n",
        "plt.figure(figsize=(6, 4))\n",
        "sns.heatmap(conf_matrix, annot=True, cmap='Blues', fmt='d')\n",
        "plt.xlabel('Predicted')\n",
        "plt.ylabel('True')\n",
        "plt.title('Confusion Matrix')\n",
        "plt.show()"
      ],
      "metadata": {
        "colab": {
          "base_uri": "https://localhost:8080/",
          "height": 410
        },
        "id": "6bLC5qPu174j",
        "outputId": "8b3f9fcf-5c5c-4971-e232-93cb5b166a05"
      },
      "execution_count": null,
      "outputs": [
        {
          "output_type": "display_data",
          "data": {
            "text/plain": [
              "<Figure size 600x400 with 2 Axes>"
            ],
            "image/png": "[encoded data removed]"
          },
          "metadata": {}
        }
      ]
    },
    {
      "cell_type": "markdown",
      "source": [
        "# **Prediction**"
      ],
      "metadata": {
        "id": "eIs0ttSqdFcz"
      }
    },
    {
      "cell_type": "code",
      "source": [
        "input= [\"Named-entity recognition (NER) (also known as (named) entity identification, entity chunking, and entity extraction) is a subtask of information extraction that seeks to locate and classify named entities mentioned in unstructured text into pre-defined categories such as person names, organizations, locations, medical codes, time expressions, quantities, monetary values, percentages, etc.\"]\n",
        "if input[0] != \"\":\n",
        "    processed_text = clean_wiki_text(input[0])\n",
        "    prediction = model.predict(tfidf.transform([processed_text]))\n",
        "    if prediction.size > 0:\n",
        "        if prediction[0] == 'easy':\n",
        "            print(\"The readability is classified as easy.\")\n",
        "        else:\n",
        "            print(\"The readability is classified as difficult.\")\n",
        "else:\n",
        "    print(\"Input is Empty\")"
      ],
      "metadata": {
        "colab": {
          "base_uri": "https://localhost:8080/"
        },
        "id": "rUPHPgL3sf3v",
        "outputId": "1da5d603-42cb-484d-a1cf-a7e758f187c7"
      },
      "execution_count": null,
      "outputs": [
        {
          "output_type": "stream",
          "name": "stdout",
          "text": [
            "The readability is classified as easy.\n"
          ]
        }
      ]
    },
    {
      "cell_type": "code",
      "source": [
        "input= [\"Information retrieval (IR) in computing and information science is the task of identifying and retrieving information system resources that are relevant to an information need. \"]\n",
        "if input[0] != \"\":\n",
        "    processed_text = clean_wiki_text(input[0])\n",
        "    prediction = model.predict(tfidf.transform([processed_text]))\n",
        "    if prediction.size > 0:\n",
        "        if prediction[0] == 'easy':\n",
        "            print(\"The readability is classified as easy.\")\n",
        "        else:\n",
        "            print(\"The readability is classified as difficult.\")\n",
        "else:\n",
        "    print(\"Input is Empty\")"
      ],
      "metadata": {
        "colab": {
          "base_uri": "https://localhost:8080/"
        },
        "id": "am-YzCjMt-s5",
        "outputId": "e09c87ef-41ef-49ae-ecee-24f8576bd714"
      },
      "execution_count": null,
      "outputs": [
        {
          "output_type": "stream",
          "name": "stdout",
          "text": [
            "The readability is classified as difficult.\n"
          ]
        }
      ]
    },
    {
      "cell_type": "code",
      "source": [
        "input= [\"\"]\n",
        "if input[0] != \"\":\n",
        "    processed_text = clean_wiki_text(input[0])\n",
        "    prediction = model.predict(tfidf.transform([processed_text]))\n",
        "    if prediction.size > 0:\n",
        "        if prediction[0] == 'easy':\n",
        "            print(\"The readability is classified as easy.\")\n",
        "        else:\n",
        "            print(\"The readability is classified as difficult.\")\n",
        "else:\n",
        "    print(\"Input is Empty\")"
      ],
      "metadata": {
        "colab": {
          "base_uri": "https://localhost:8080/"
        },
        "id": "BgE4E7jXxxTY",
        "outputId": "07a74bae-a2e7-4a14-ef63-39e0b38b6991"
      },
      "execution_count": null,
      "outputs": [
        {
          "output_type": "stream",
          "name": "stdout",
          "text": [
            "Input is Empty\n"
          ]
        }
      ]
    }
  ]
}